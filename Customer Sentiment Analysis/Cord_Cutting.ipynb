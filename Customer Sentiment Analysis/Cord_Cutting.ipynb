{
 "cells": [
  {
   "cell_type": "markdown",
   "metadata": {},
   "source": [
    "# Cord Cutting\n",
    "\n",
    "We wanted to use reddit data to figure out the tendencies of cord-cutters: how they compare streaming services, what their concerns are with cable tv, their favorite shows and complaints with their streaming services. <br>\n",
    "\n",
    "### Note\n",
    "With text analytics, human intervention is required at many places since the results from these methods, although good, are not completely without some errors. Therefore, you will notice that at some places I have done some manual interventions. I will try to explain what was done."
   ]
  },
  {
   "cell_type": "code",
   "execution_count": 1,
   "metadata": {},
   "outputs": [],
   "source": [
    "import pandas as pd\n",
    "import numpy as np\n",
    "import re\n",
    "\n",
    "from nltk.tokenize import word_tokenize\n",
    "from nltk.corpus import stopwords\n",
    "import nltk\n",
    "\n",
    "from string import punctuation\n",
    "\n",
    "import matplotlib.pyplot as plt\n",
    "%matplotlib inline"
   ]
  },
  {
   "cell_type": "markdown",
   "metadata": {},
   "source": [
    "We used [pushshift.io](https://pushshift.io/) to extract 4 months of reddit data. You can find the data [here](https://github.com/sagar-chadha/Data-Science-Projects/blob/master/Customer%20Sentiment%20Analysis/All%20Comments.xlsx)"
   ]
  },
  {
   "cell_type": "code",
   "execution_count": 2,
   "metadata": {},
   "outputs": [
    {
     "data": {
      "text/html": [
       "<div>\n",
       "<style scoped>\n",
       "    .dataframe tbody tr th:only-of-type {\n",
       "        vertical-align: middle;\n",
       "    }\n",
       "\n",
       "    .dataframe tbody tr th {\n",
       "        vertical-align: top;\n",
       "    }\n",
       "\n",
       "    .dataframe thead th {\n",
       "        text-align: right;\n",
       "    }\n",
       "</style>\n",
       "<table border=\"1\" class=\"dataframe\">\n",
       "  <thead>\n",
       "    <tr style=\"text-align: right;\">\n",
       "      <th></th>\n",
       "      <th>subreddit</th>\n",
       "      <th>comments</th>\n",
       "    </tr>\n",
       "  </thead>\n",
       "  <tbody>\n",
       "    <tr>\n",
       "      <th>0</th>\n",
       "      <td>cordcutters</td>\n",
       "      <td>150Mbps puts you way above what is considered ...</td>\n",
       "    </tr>\n",
       "    <tr>\n",
       "      <th>1</th>\n",
       "      <td>cordcutters</td>\n",
       "      <td>Considering most US households have (at most) ...</td>\n",
       "    </tr>\n",
       "    <tr>\n",
       "      <th>2</th>\n",
       "      <td>cordcutters</td>\n",
       "      <td>Every other provider in the UK uses Openreach ...</td>\n",
       "    </tr>\n",
       "    <tr>\n",
       "      <th>3</th>\n",
       "      <td>cordcutters</td>\n",
       "      <td>How fast is AT&amp;amp;T cellular data in your hom...</td>\n",
       "    </tr>\n",
       "    <tr>\n",
       "      <th>4</th>\n",
       "      <td>cordcutters</td>\n",
       "      <td>I got my cube yesterday and youâ€™re completel...</td>\n",
       "    </tr>\n",
       "  </tbody>\n",
       "</table>\n",
       "</div>"
      ],
      "text/plain": [
       "     subreddit                                           comments\n",
       "0  cordcutters  150Mbps puts you way above what is considered ...\n",
       "1  cordcutters  Considering most US households have (at most) ...\n",
       "2  cordcutters  Every other provider in the UK uses Openreach ...\n",
       "3  cordcutters  How fast is AT&amp;T cellular data in your hom...\n",
       "4  cordcutters  I got my cube yesterday and youâ€™re completel..."
      ]
     },
     "execution_count": 2,
     "metadata": {},
     "output_type": "execute_result"
    }
   ],
   "source": [
    "df = pd.read_excel('All Comments.xlsx')\n",
    "df.columns = ['subreddit', 'comments']\n",
    "df['comments'] = df['comments'].astype('str')\n",
    "df.head()"
   ]
  },
  {
   "cell_type": "markdown",
   "metadata": {},
   "source": [
    "## Text Pre-processing\n",
    "As with any other text field, the comments field has a lot of stuff that we don't want to include in our analysis - deleted comments, newline and carriage returns, english slangs, urls, etc. Let's remove these one by one before we proceed with any analysis of the data. "
   ]
  },
  {
   "cell_type": "markdown",
   "metadata": {},
   "source": [
    "**Step 1:** *Remove lines where comments says -removed*"
   ]
  },
  {
   "cell_type": "code",
   "execution_count": 3,
   "metadata": {},
   "outputs": [],
   "source": [
    "# get and remove rows where comment has [removed]\n",
    "mask_removed = df['comments'] == '[removed]'\n",
    "df = df.loc[~mask_removed,:].reset_index(drop = True)\n",
    "\n",
    "# get and remove rows where comment has [deleted]\n",
    "mask_deleted = df['comments'] == '[deleted]'\n",
    "df = df.loc[~mask_deleted,:].reset_index(drop = True)"
   ]
  },
  {
   "cell_type": "markdown",
   "metadata": {},
   "source": [
    "**Step 2:** *Convert to lower case*"
   ]
  },
  {
   "cell_type": "code",
   "execution_count": 4,
   "metadata": {},
   "outputs": [],
   "source": [
    "# Convert messages to lower case\n",
    "df['comments'] = df['comments'].map(lambda x: x.lower())"
   ]
  },
  {
   "cell_type": "markdown",
   "metadata": {},
   "source": [
    "**Step 3:** *Replace newline and carriage return characters*"
   ]
  },
  {
   "cell_type": "code",
   "execution_count": 5,
   "metadata": {},
   "outputs": [],
   "source": [
    "def replace_newline(s):\n",
    "    s = re.sub('\\n', ' ',s)\n",
    "    s = re.sub(\"\\r\", ' ',s)\n",
    "    return s\n",
    "\n",
    "df['comments'] = df['comments'].map(replace_newline)"
   ]
  },
  {
   "cell_type": "markdown",
   "metadata": {},
   "source": [
    "**Step 4:** *Replace common english slang with full words*"
   ]
  },
  {
   "cell_type": "code",
   "execution_count": 6,
   "metadata": {},
   "outputs": [],
   "source": [
    "def replace_slang(s):\n",
    "    '''replace commonly used phrases with the full thing'''\n",
    "    to_replace = [\"i'd\", \"you'd\", \"we'd\",\"they'd\", \"i'll\", \"you'll\", \"we'll\", \"they'll\", \"i'm\",\n",
    "                  \"y'all\", \"you're\", \"we're\", \"they're\", \"i've\", \"you've\", \"we've\", \"they've\", \"didn't\", \"shouldn't\",\n",
    "                 \"couldn't\", \"wouldn't\", \"won't\", \"can't\", \"mustn't\", \"ain't\", \"isn't\", \"that's\", \"doesn't\", \"it'd\",\n",
    "                  \"it'll\", \"/month\", \"/ month\", \"don't\", \"there's\", \"it's\", \"imo\"]\n",
    "    \n",
    "    replace_with = [\"i would\", \"you would\", \"we would\", \"they would\", \"i will\", \"you will\", \"we will\", \"they will\",\n",
    "                   \"i am\", \"you all\", \"you are\", \"we are\", \"they are\", \"i have\", \"you have\", \"we have\", \"they have\", \n",
    "                    \"did not\", \"should not\", \"could not\", \"would not\", \"will not\", \"cannot\", \"must not\", \"am not\", \"is not\",\n",
    "                   \"that is\", \"does not\", \"it would\", \"it will\", \"per month\", \"per month\", \"do not\", \"there is\", \"it is\",\n",
    "                   \"in my opinion\"]\n",
    "    \n",
    "    for i in range(len(to_replace)):\n",
    "        s = re.sub(r\"\\b%s\\b\" %to_replace[i], replace_with[i], s)\n",
    "    \n",
    "    return s\n",
    "\n",
    "df['comments'] = df['comments'].map(replace_slang)"
   ]
  },
  {
   "cell_type": "markdown",
   "metadata": {},
   "source": [
    "**Step 4:** *Remove urls*"
   ]
  },
  {
   "cell_type": "code",
   "execution_count": 7,
   "metadata": {},
   "outputs": [],
   "source": [
    "# remove websites from comments\n",
    "def remove_urls(s):\n",
    "    s = re.sub(\"http[^\\s]+\", \" \", s)\n",
    "    s = re.sub(\"https[^\\s]+\", \" \", s)\n",
    "    s = re.sub(\"[^\\s]+\\.us[^\\s]+\", \" \", s)\n",
    "    s = re.sub(\"[^\\s]+\\.co.uk[^\\s]+\", \" \", s)\n",
    "    s = re.sub(\"[^\\s]+\\.com[^\\s]+\", \" \", s)\n",
    "    s = re.sub(\" +\", \" \", s)\n",
    "    return s\n",
    "\n",
    "df['comments'] = df['comments'].map(remove_urls)"
   ]
  },
  {
   "cell_type": "markdown",
   "metadata": {},
   "source": [
    "**Step 5:** *Change encoding to utf-8 to remove some unknown characters that have creeped into the comments*"
   ]
  },
  {
   "cell_type": "code",
   "execution_count": 8,
   "metadata": {},
   "outputs": [],
   "source": [
    "def encode_decode(s):\n",
    "    s = s.encode('ascii', errors = 'ignore').decode('utf-8')\n",
    "    return s\n",
    "\n",
    "# remove unknown characters\n",
    "df['comments'] = df['comments'].map(encode_decode)"
   ]
  },
  {
   "cell_type": "markdown",
   "metadata": {},
   "source": [
    "**Step 6:** *Remove apostrophes, stars (*) and extra spaces*"
   ]
  },
  {
   "cell_type": "code",
   "execution_count": 9,
   "metadata": {},
   "outputs": [],
   "source": [
    "# remove apostrophes\n",
    "def remove_apostrophe(s):\n",
    "    s = re.sub(\"'\", '',s)\n",
    "    s = re.sub(\"\\\"\", \"\", s)\n",
    "    s = re.sub(\"\\*\", \" \", s)\n",
    "    s = re.sub(\"&gt;\", \" \", s)\n",
    "    s = re.sub(\"&gt\", \" \", s)\n",
    "    s = re.sub(\"&amp;#37;\", \"%\", s)\n",
    "    s = re.sub(\"&amp;\", \"&\", s)\n",
    "    s = re.sub(\" +\", \" \", s)\n",
    "    s = s.rstrip().lstrip()\n",
    "    return s\n",
    "\n",
    "# remove apostrophe\n",
    "df['comments'] = df['comments'].map(remove_apostrophe)"
   ]
  },
  {
   "cell_type": "markdown",
   "metadata": {},
   "source": [
    "**Step 7:** *Some slangs weren't caught last time.*"
   ]
  },
  {
   "cell_type": "code",
   "execution_count": 10,
   "metadata": {},
   "outputs": [],
   "source": [
    "def replace_slang_again(s):\n",
    "    '''replace commonly used phrases with the full thing'''\n",
    "    to_replace = [\"id\", \"youd\", \"theyd\", \"youll\", \"they'll\", \"im\",\n",
    "                  \"yall\", \"youre\", \"theyre\", \"ive\", \"youve\", \"weve\", \"theyve\", \"didnt\", \"shouldnt\",\n",
    "                 \"couldnt\", \"wouldnt\", \"wont\", \"cant\", \"mustnt\", \"aint\", \"isnt\", \"thats\", \"doesnt\", \"itd\", \"ill\", \"w/ live\",\n",
    "                 \"w/live\", \"w/no\", \"itll\", \"/ month\", \"/month\", \"w/ no\", \"dont\", \"theres\", \"at&amp;t\", \"its\"]\n",
    "    \n",
    "    replace_with = [\"i would\", \"you would\", \"they would\", \"you will\", \"they will\",\n",
    "                   \"i am\", \"you all\", \"you are\", \"they are\", \"i have\", \"you have\", \"we have\", \"they have\", \n",
    "                    \"did not\", \"should not\", \"could not\", \"would not\", \"will not\", \"cannot\", \"must not\", \"am not\",\n",
    "                   \"is not\", \"that is\", \"does not\", \"it would\", \"i will\", \"with live\", \"with live\", \"with no\", \"it will\",\n",
    "                   \"per month\", \"per month\", \"with no\", \"do not\", \"there is\", \"att\" ,\"it is\"]\n",
    "    \n",
    "    for i in range(len(to_replace)):\n",
    "        s = re.sub(r\"\\b%s\\b\" %to_replace[i], replace_with[i], s)\n",
    "    \n",
    "    return s\n",
    "\n",
    "df['comments'] = df['comments'].map(replace_slang_again)"
   ]
  },
  {
   "cell_type": "markdown",
   "metadata": {},
   "source": [
    "**Step 8:** *Remove parantheses*"
   ]
  },
  {
   "cell_type": "code",
   "execution_count": 11,
   "metadata": {},
   "outputs": [],
   "source": [
    "# remove apostrophes\n",
    "def remove_parantheses(s):\n",
    "    s = re.sub(\"\\(\", ' ',s)\n",
    "    s = re.sub(\"\\[\", ' ',s)\n",
    "    s = re.sub(\"]\", ' ',s)\n",
    "    s = re.sub(\"\\|\", ' ', s)\n",
    "    s = re.sub(\"\\)\", \" \", s)\n",
    "    s = re.sub(\"\\^\", \" \", s)\n",
    "    s = re.sub(\"#\", \" \", s)\n",
    "    s = re.sub(\" +\", \" \", s)\n",
    "    s = s.rstrip().lstrip()\n",
    "    return s\n",
    "\n",
    "# remove apostrophe\n",
    "df['comments'] = df['comments'].map(remove_parantheses)"
   ]
  },
  {
   "cell_type": "markdown",
   "metadata": {},
   "source": [
    "**Step 8:** *Add space after full stops where it is directly followed by a character other than a space*"
   ]
  },
  {
   "cell_type": "code",
   "execution_count": 12,
   "metadata": {},
   "outputs": [],
   "source": [
    "# Many comments have full stops not followed by any spaces. Lets correct this.\n",
    "def fullstop_space(s):\n",
    "    s = re.sub(r'(?<=[.,])(?=[^\\s\\.[0-9]])', r' ', s)\n",
    "    return s\n",
    "\n",
    "df['comments'] = df['comments'].map(fullstop_space)"
   ]
  },
  {
   "cell_type": "markdown",
   "metadata": {},
   "source": [
    "**Step 9:** *Remove empty comments* <br>\n",
    "These are comments that had just an unknown character in them"
   ]
  },
  {
   "cell_type": "code",
   "execution_count": 13,
   "metadata": {},
   "outputs": [],
   "source": [
    "mask_empty = df['comments'] == ''\n",
    "df = df.loc[~mask_empty, :]"
   ]
  },
  {
   "cell_type": "markdown",
   "metadata": {},
   "source": [
    "**Step 10:** *Remove short comments* <br>\n",
    "We wont gain much insights from comments less than 10 characters in length."
   ]
  },
  {
   "cell_type": "code",
   "execution_count": 14,
   "metadata": {},
   "outputs": [],
   "source": [
    "def flag_one_word(s):\n",
    "    if len(s.split(' ')) <= 10:\n",
    "        return True\n",
    "    else:\n",
    "        return False\n",
    "\n",
    "mask_one_word = df['comments'].map(flag_one_word)\n",
    "\n",
    "df = df.loc[~mask_one_word, :].reset_index(drop = True)"
   ]
  },
  {
   "cell_type": "markdown",
   "metadata": {},
   "source": [
    "**Step 11:** *Clean service provider names* <br>\n",
    "Service providers such as `Amazon Prime`, `Hulu` and others have been mentioned by various different names by different users. We need to clean these up so that we can reliably gauge consumer sentiment towards these services. <br>\n",
    "\n",
    "For this purpose we have created an excel sheet with the various names mentioned in the comments under the column `Service_Name` and their corresponding corrected name under the column `Name_Mapping`. You can find this file in the Data Files folder in the repository."
   ]
  },
  {
   "cell_type": "code",
   "execution_count": 15,
   "metadata": {},
   "outputs": [],
   "source": [
    "# read in the text file\n",
    "service_name_map = pd.read_excel('service_name_cleaning.xlsx')\n",
    "service_name_map['Service_Name'] = service_name_map['Service_Name'].map(lambda x:x.lower())\n",
    "service_name_map['Name_Mapping'] = service_name_map['Name_Mapping'].map(lambda x:x.lower())\n",
    "\n",
    "# define the function\n",
    "def clean_names(s):\n",
    "    '''Given a string, this replaces the models mentioned in it by brands'''\n",
    "    global service_name_map\n",
    "    for i in range(len(service_name_map)):\n",
    "        s = re.sub(r\"\\b%s\\b\" %service_name_map.loc[i, 'Service_Name'], service_name_map.loc[i, 'Name_Mapping'], s)\n",
    "    return s\n",
    "\n",
    "# replace all models by their brands\n",
    "df['comments'] = df['comments'].map(clean_names)"
   ]
  },
  {
   "cell_type": "markdown",
   "metadata": {},
   "source": [
    "### Write out the file to csv so that pre-processing doesnt have to be repeated."
   ]
  },
  {
   "cell_type": "code",
   "execution_count": 16,
   "metadata": {},
   "outputs": [],
   "source": [
    "df.to_csv('df_end_of_preproc.csv', index = False)"
   ]
  },
  {
   "cell_type": "markdown",
   "metadata": {},
   "source": [
    "### Checkpoint 1\n",
    "\n",
    "Read in already cleaned dataframe created above."
   ]
  },
  {
   "cell_type": "code",
   "execution_count": 2,
   "metadata": {},
   "outputs": [],
   "source": [
    "df = pd.read_csv('df_end_of_preproc.csv')"
   ]
  },
  {
   "cell_type": "markdown",
   "metadata": {},
   "source": [
    "## What services are people mentioning? \n",
    "\n",
    "Let's begin with a very basic wordcloud of the services that people are mentioning the most"
   ]
  },
  {
   "cell_type": "code",
   "execution_count": 3,
   "metadata": {},
   "outputs": [],
   "source": [
    "# create a corpus from all the comments\n",
    "corpus = \" \".join(df['comments'])\n",
    "\n",
    "# get the tokens from this corpus\n",
    "tokens = nltk.word_tokenize(corpus)\n",
    "\n",
    "# extract english stopwords from nltk\n",
    "en_stopwords = stopwords.words('english')\n",
    "\n",
    "# remove stopwords from the corpus of comments\n",
    "tokens_no_stopwords = [i.lower() for i in tokens if i.lower() not in en_stopwords]\n",
    "\n",
    "# remove punctuations from the corpus of tokens\n",
    "from string import punctuation\n",
    "tokens_no_stop_no_punctuations = [i for i in tokens_no_stopwords if i not in punctuation]\n",
    "\n",
    "# Calculate the frequency of the words in the corpus\n",
    "freq_dist = nltk.FreqDist(tokens_no_stop_no_punctuations)\n",
    "\n",
    "# create a list of words sorted by most frequent to least frequent\n",
    "freq_word_list = sorted([(i,j) for i,j in freq_dist.items()], key = lambda x:x[1], reverse = True)"
   ]
  },
  {
   "cell_type": "code",
   "execution_count": 61,
   "metadata": {},
   "outputs": [],
   "source": [
    "corpus_list = []\n",
    "corpus_list.append(corpus)\n",
    "\n",
    "np.savetxt(\"wordcloud.csv\", corpus_list, delimiter=\",\", fmt='%s')"
   ]
  },
  {
   "cell_type": "code",
   "execution_count": 4,
   "metadata": {},
   "outputs": [
    {
     "data": {
      "image/png": "[encoded data removed]",
      "text/plain": [
       "<Figure size 1440x720 with 1 Axes>"
      ]
     },
     "metadata": {
      "needs_background": "light"
     },
     "output_type": "display_data"
    }
   ],
   "source": [
    "# Get a list of all service names\n",
    "services = pd.read_excel('service_name_cleaning.xlsx')\n",
    "\n",
    "services['Name_Mapping'] = services['Name_Mapping'].map(lambda x: x.lower())\n",
    "find_services = services['Name_Mapping'].unique().tolist()\n",
    "\n",
    "subdict = {x: freq_dist[x] for x in find_services if x in freq_dist}\n",
    "\n",
    "# draw a wordcloud of the most mentioned services.\n",
    "from wordcloud import WordCloud\n",
    "import random\n",
    "\n",
    "def grey_color(word, font_size, position, orientation, random_state=None, **kwargs):\n",
    "    return 'hsl(0, 0%%, %d%%)' % random.randint(50, 100)\n",
    "\n",
    "wordcloud = WordCloud(width= 800, height = 400,\n",
    "                      relative_scaling = 1).generate_from_frequencies(subdict)\n",
    "\n",
    "plt.figure(figsize=(20,10))\n",
    "plt.imshow(wordcloud.recolor(color_func=grey_color, random_state=3))\n",
    "plt.axis(\"off\")\n",
    "plt.tight_layout(pad=0)\n",
    "plt.show()"
   ]
  },
  {
   "cell_type": "markdown",
   "metadata": {},
   "source": [
    "The most talked about services are the ones that we expected - Amazon prime, roku, Netflix, youtube TV, etc. Next let's see what these users are saying about these services."
   ]
  },
  {
   "cell_type": "markdown",
   "metadata": {},
   "source": [
    "## Topic Modelling (Latent Dirichlet Analysis)\n",
    "\n",
    "Before we dive into the analysis of sentiments, it makes sense to look at what people generally talk about on this forum. We use the concept of Latent Dirichlet Analysis, commonly called 'LDA' to analyze the topics in our comments. LDA works on the follwing assumptions - <br>\n",
    "1. *The author of a document decides on the number of words to be included in a document.*\n",
    "2. *Then, he decides the number of topics to be included in the document and their probabilities.*\n",
    "3. *Finally, to write the document the author picks up a topic as per the probability and picks up words that fall under that topic.*\n",
    "\n",
    "LDA tries to backtrack and extract the aforementioned 'topics' from a document and 'words' in that topic. For LDA analysis, two inputs are important - <br>\n",
    "1. **How many topics dominate the document corpus?**\n",
    "2. **How many words dominate each topic?**\n",
    "\n",
    "Once these are mentioned, the algorithm goes ahead and finds the most dominant topics and their corresponding words."
   ]
  },
  {
   "cell_type": "code",
   "execution_count": 1,
   "metadata": {},
   "outputs": [],
   "source": [
    "import pandas as pd\n",
    "import numpy as np\n",
    "import string\n",
    "import random\n",
    "\n",
    "import nltk\n",
    "from nltk import word_tokenize\n",
    "from nltk.corpus import wordnet\n",
    "import re\n",
    "\n",
    "from nltk.stem import WordNetLemmatizer\n",
    "word_lemm = WordNetLemmatizer()\n",
    "\n",
    "from nltk.corpus import stopwords\n",
    "en_stopwords = stopwords.words('english')"
   ]
  },
  {
   "cell_type": "code",
   "execution_count": 2,
   "metadata": {},
   "outputs": [],
   "source": [
    "df = pd.read_csv('df_end_of_preproc.csv') # data with the pre-processing already done!"
   ]
  },
  {
   "cell_type": "markdown",
   "metadata": {},
   "source": [
    "We should lemmatize our text. This takes care of multiple forms of the same word being treated separately. The following functions help in lemmatization."
   ]
  },
  {
   "cell_type": "code",
   "execution_count": 3,
   "metadata": {},
   "outputs": [],
   "source": [
    "def convert_to_valid_pos(x):\n",
    "    \"\"\"Converts the pos tag returned by the nltk.pos_tag function to a format accepted by wordNetLemmatizer\"\"\"\n",
    "    x = x[0].upper() # extract first character of the POS tag\n",
    "    \n",
    "    # define mapping for the tag to correct tag.\n",
    "    tag_dict = {\"J\": wordnet.ADJ,\n",
    "               \"N\": wordnet.NOUN,\n",
    "               \"R\": wordnet.ADV,\n",
    "               \"V\": wordnet.VERB}\n",
    "    \n",
    "    return tag_dict.get(x, wordnet.NOUN)\n",
    "\n",
    "def get_lemma(sentence):\n",
    "    \"\"\"Given a sentence, derives the lemmatized version of the sentence\"\"\"\n",
    "    pos_tagged_text = nltk.pos_tag(word_tokenize(sentence))\n",
    "    \n",
    "    lemm_list = []\n",
    "\n",
    "    for (word, tag) in pos_tagged_text:\n",
    "        lemm_list.append(word_lemm.lemmatize(word, pos = convert_to_valid_pos(tag)))\n",
    "    \n",
    "    return lemm_list\n",
    "\n",
    "def prepare_text_for_lda(text):\n",
    "    \"\"\"Lemmatizes text, removes stopwords and short words from given text.\"\"\"\n",
    "    lemm_list = get_lemma(text)\n",
    "    \n",
    "    tokens = [i for i in lemm_list if i not in en_stopwords]\n",
    "    \n",
    "    tokens = [token for token in tokens if len(token) > 4]\n",
    "    \n",
    "    return tokens"
   ]
  },
  {
   "cell_type": "markdown",
   "metadata": {},
   "source": [
    "If required (in case this takes too much time) we can also look at taking only a proportion of all tokens present in the corpus"
   ]
  },
  {
   "cell_type": "code",
   "execution_count": 4,
   "metadata": {},
   "outputs": [],
   "source": [
    "def siege(f, n):\n",
    "    \"\"\"Returns only n% of all tokens from a file. Provide - \n",
    "    n - fraction of documents to keep.\n",
    "    f - filename\"\"\"\n",
    "    \n",
    "    text_data = []\n",
    "    np.random.seed(42)\n",
    "    \n",
    "    with open(f, encoding=\"utf8\") as f:\n",
    "        for line in f:\n",
    "            if random.random() > (1 - n):\n",
    "                tokens = prepare_text_for_lda(line.split(\",\")[1])\n",
    "                text_data.append(tokens)\n",
    "    \n",
    "    return text_data"
   ]
  },
  {
   "cell_type": "code",
   "execution_count": 5,
   "metadata": {},
   "outputs": [],
   "source": [
    "# lets work with 70% of the tokens and create topics\n",
    "text_data = siege('df_end_of_preproc.csv', 0.70)"
   ]
  },
  {
   "cell_type": "code",
   "execution_count": 6,
   "metadata": {},
   "outputs": [],
   "source": [
    "# create a dictionary from the text data that we have. This creates an efficient internal system to quickly\n",
    "# see which terms appear where and it what frequency\n",
    "from gensim import corpora\n",
    "import pickle\n",
    "\n",
    "dictionary = corpora.Dictionary(text_data)\n",
    "corpus = [dictionary.doc2bow(text) for text in text_data]\n",
    "\n",
    "pickle.dump(corpus, open('corpus.pkl', 'wb'))\n",
    "dictionary.save('dictionary.gensim')"
   ]
  },
  {
   "cell_type": "code",
   "execution_count": 7,
   "metadata": {},
   "outputs": [],
   "source": [
    "# LDA implementation\n",
    "import gensim\n",
    "i = 5\n",
    "\n",
    "Topic_list =[]\n",
    "\n",
    "ldamodel = gensim.models.ldamodel.LdaModel(corpus, num_topics = i, id2word = dictionary, passes=15)\n",
    "ldamodel.save('model5.gensim')\n",
    "\n",
    "topics = ldamodel.print_topics(num_words = 20)\n",
    "for topic in topics:\n",
    "    Topic_list.append(topic[1])"
   ]
  },
  {
   "cell_type": "code",
   "execution_count": 9,
   "metadata": {},
   "outputs": [],
   "source": [
    "# save the topics for later use.\n",
    "df = pd.DataFrame({'col':Topic_list})\n",
    "\n",
    "def clean_topic_words(x):\n",
    "    \"\"\"Clean topic words as output by the algorithm\"\"\"\n",
    "    clean_topic = re.findall(\"\\\".*?\\\"\", x)\n",
    "    return clean_topic\n",
    "\n",
    "df['col'] = df['col'].map(clean_topic_words)\n",
    "\n",
    "df.to_csv(\"Topics_List.csv\") # write out for later use"
   ]
  },
  {
   "cell_type": "code",
   "execution_count": 19,
   "metadata": {},
   "outputs": [
    {
     "data": {
      "text/html": [
       "<div>\n",
       "<style scoped>\n",
       "    .dataframe tbody tr th:only-of-type {\n",
       "        vertical-align: middle;\n",
       "    }\n",
       "\n",
       "    .dataframe tbody tr th {\n",
       "        vertical-align: top;\n",
       "    }\n",
       "\n",
       "    .dataframe thead th {\n",
       "        text-align: right;\n",
       "    }\n",
       "</style>\n",
       "<table border=\"1\" class=\"dataframe\">\n",
       "  <thead>\n",
       "    <tr style=\"text-align: right;\">\n",
       "      <th></th>\n",
       "      <th>col</th>\n",
       "    </tr>\n",
       "  </thead>\n",
       "  <tbody>\n",
       "    <tr>\n",
       "      <th>0</th>\n",
       "      <td>[\"channel\", \"watch\", \"ps_vue\", \"local\", \"youtu...</td>\n",
       "    </tr>\n",
       "    <tr>\n",
       "      <th>1</th>\n",
       "      <td>[\"cable\", \"internet\", \"antenna\", \"would\", \"pri...</td>\n",
       "    </tr>\n",
       "    <tr>\n",
       "      <th>2</th>\n",
       "      <td>[\"antenna\", \"signal\", \"something\", \"neutrality...</td>\n",
       "    </tr>\n",
       "    <tr>\n",
       "      <th>3</th>\n",
       "      <td>[\"would\", \"device\", \"amazon_fire\", \"apple\", \"g...</td>\n",
       "    </tr>\n",
       "    <tr>\n",
       "      <th>4</th>\n",
       "      <td>[\"service\", \"month\", \"netflix\", \"watch\", \"cont...</td>\n",
       "    </tr>\n",
       "  </tbody>\n",
       "</table>\n",
       "</div>"
      ],
      "text/plain": [
       "                                                 col\n",
       "0  [\"channel\", \"watch\", \"ps_vue\", \"local\", \"youtu...\n",
       "1  [\"cable\", \"internet\", \"antenna\", \"would\", \"pri...\n",
       "2  [\"antenna\", \"signal\", \"something\", \"neutrality...\n",
       "3  [\"would\", \"device\", \"amazon_fire\", \"apple\", \"g...\n",
       "4  [\"service\", \"month\", \"netflix\", \"watch\", \"cont..."
      ]
     },
     "execution_count": 19,
     "metadata": {},
     "output_type": "execute_result"
    }
   ],
   "source": [
    "df"
   ]
  },
  {
   "cell_type": "markdown",
   "metadata": {},
   "source": [
    "A glance at the topics generated shows that some trends emerge - <br>\n",
    "1. People talk about net neutrality with words like neutrality, Jefferson, etc.\n",
    "2. People talk about streaming services - ps vue, youtube tv, sling, etc.\n",
    "3. People talk about traditional cable experience - antenna, cable, commercials, etc"
   ]
  },
  {
   "cell_type": "markdown",
   "metadata": {},
   "source": [
    "## Sentiment Analyzer\n",
    "The most common way to extract sentiments from text where there is no data with labels is to use a reference list of words with pre-defined sentiment scores attached to them. This approach has many limitations and therefore we use a more novel approach. This is a three step approach - <br>\n",
    "1. **Extract bigrams using Parts of speech** - Look for meaningful bigrams such as - 'excellent service', 'great price', 'poor quality', etc. Keep only the top bigrams.\n",
    "2. **Sentiment Mining** - <br>\n",
    "    a. See which bigrams make their sentiments very clear. For instance, we know that 'excellent service' means a positive thing. Tag these bigrams with sentiments directly using the `VADER` library. <br>\n",
    "    b. Next, we will use VADER to get positive and negative reference words from our corpus. <br>\n",
    "    c. For the rest of the bigrams, calculate their association (lift) with reference positive (good, excellent, marvelous,etc) and reference negative words (poor, pathetic, etc.).\n",
    "3. **Semantic Orientation** - For part `a` above, the sentiments are clear. For part `b`, use the difference of lift between the positive and negative words as the final sentiment score."
   ]
  },
  {
   "cell_type": "markdown",
   "metadata": {},
   "source": [
    "**Step 1:** *Extract bigrams using Parts of Speech tagging* <br>\n",
    "Find consecutive trigrams that have pos tags as per certain conditions below and then extract the first two words of that trigram -\n",
    "\n",
    "| Rule | First Word     | Second Word | Third Word (not extracted) |\n",
    "|------|----------------|-------------|----------------------------|\n",
    "| 1    | JJ (Adjective) | NN          | Anything                   |\n",
    "| 2    | RB (Adverb)    | JJ          | Not NN                     |\n",
    "| 3    | JJ             | JJ          | Not NN                     |\n",
    "| 4    | NN (Noun)      | JJ          | Not NN                     |\n",
    "| 5    | RB             | VB (Verb)   | Anything                   |"
   ]
  },
  {
   "cell_type": "code",
   "execution_count": null,
   "metadata": {},
   "outputs": [],
   "source": [
    "def get_n_grams(string):\n",
    "    '''Given a string, this forms trigrams using 3 consecutive words and \n",
    "    also gets tri-grams of the parts of speech tags. This will return bigrams which match the required patterns.'''\n",
    "    \n",
    "    # since we need trigrams\n",
    "    n = 3\n",
    "    \n",
    "    # get the tokens in the provided string\n",
    "    tokens_list = nltk.word_tokenize(string)\n",
    "    \n",
    "    # get pos_tags for each token\n",
    "    pos_tag_list = [j for (i,j) in nltk.pos_tag(tokens_list)]\n",
    "    \n",
    "    # required to see where n-gram formation should stop\n",
    "    list_length = len(tokens_list)\n",
    "  \n",
    "    # to store the n grams\n",
    "    n_grams_tokens = []\n",
    "    n_grams_postag = []\n",
    "    \n",
    "    # make n grams of pos_tags and tokens. n is 3\n",
    "    for i in range(list_length - (n-1)):\n",
    "        n_grams_tokens.append(\" \".join(tokens_list[i:i+n]))\n",
    "        n_grams_postag.append(\" \".join(pos_tag_list[i:i+n]))\n",
    "        \n",
    "    # What are the bi-grams i am looking for\n",
    "    req_bi_tags = ['JJ NN', 'JJ NNS', 'RB JJ', 'RBR JJ', 'RBS JJ', 'JJ JJ', 'NN JJ', 'NNS JJ',\n",
    "                           'RB VB', 'RBR VB', 'RBS VB', 'RB VBD', 'RB VBN', 'RB VBG', 'RBR VBD', 'RBR VBN',\n",
    "                           'RBR VBG', 'RBS VBD', 'RBS VBN', 'RBS VBG']\n",
    "    \n",
    "    # what are all possible pos tags\n",
    "    all_pos_tags = ['CC', 'CD','DT','EX','FW','IN','JJ','JJR', 'JJS', 'LS','MD', 'NN','NNS','NNP','NNPS','PDT','POS','PRP',\n",
    "                    'PRP$','RB','RBR','RBS','RP','SYM','TO','UH','VB','VBD','VBG','VBN','VBP','VBZ','WDT','WP','WP$','WRB']\n",
    "    \n",
    "    # required trigram tags\n",
    "    req_tri_tags = [(i+' '+j) for i in req_bi_tags for j in all_pos_tags]\n",
    "    \n",
    "    # the following trigram combinations violate the rules\n",
    "    not_consider = ['RB JJ NN', 'RB JJ NNS', 'RBR JJ NN', 'RBR JJ NNS', 'RBS JJ NN', 'RBS JJ NNS',\n",
    "                    'JJ JJ NN', 'JJ JJ NNS', 'NN JJ NN', 'NN JJ NNS', 'NNS JJ NN', 'NNS JJ NNS']\n",
    "    \n",
    "    # remove the trigram tags that are not to be considered.\n",
    "    req_tri_tags = list(set(req_tri_tags) - set(not_consider))\n",
    "    \n",
    "    \n",
    "    # first we select trigrams that have pos tags that fall within the criteria defined above. Then we pick up the first\n",
    "    # two elements of that trigram to get our ultimate list of bi_grams\n",
    "    selected_tri_grams = []\n",
    "    selected_bi_grams = []\n",
    "    \n",
    "    # whereever the pos_tag combination matches what we want, we pick those n-grams\n",
    "    for j in range(len(n_grams_postag)):\n",
    "        if n_grams_postag[j] in req_tri_tags:\n",
    "            selected_tri_grams.append(n_grams_tokens[j])\n",
    "        else:\n",
    "            continue\n",
    "\n",
    "    # take the first two words from the isolated trigram\n",
    "    for i in selected_tri_grams:\n",
    "        selected_bi_grams.append(\" \".join(i.split(\" \")[:2]))\n",
    "    \n",
    "    return selected_bi_grams"
   ]
  },
  {
   "cell_type": "code",
   "execution_count": null,
   "metadata": {},
   "outputs": [],
   "source": [
    "# this function now returns all important bigrams in my comments. Lets run this for all comments and extract all good\n",
    "# bigrams from these comments. Take unique of these bi-grams since bi-grams would repeat.\n",
    "\n",
    "bi_gram_series = df['comments'].map(get_n_grams)\n",
    "bi_gram_list = [j for i in bi_gram_series for j in i]"
   ]
  },
  {
   "cell_type": "code",
   "execution_count": null,
   "metadata": {},
   "outputs": [],
   "source": [
    "# count how many times a bigram appears in the list of all bigrams\n",
    "bi_gram_dict = {}\n",
    "\n",
    "for i in list(set(bi_gram_list)):\n",
    "    bi_gram_dict[i] = bi_gram_list.count(i)\n",
    "    \n",
    "freq_bigram_list = sorted([(i,j) for i,j in bi_gram_dict.items()], key = lambda x:x[1], reverse = True)"
   ]
  },
  {
   "cell_type": "markdown",
   "metadata": {},
   "source": [
    "There are just TOO many bigrams that satisfy the requirements that we specified above. We would need to limit the bigrams we analyze since only the most common ones would be of any value. <br>\n",
    "\n",
    "To that end let's take only the top 1500 bigrams for our analysis."
   ]
  },
  {
   "cell_type": "code",
   "execution_count": null,
   "metadata": {},
   "outputs": [],
   "source": [
    "subset_bigrams = [j[0] for i,j in enumerate(freq_bigram_list) if i < 1500]"
   ]
  },
  {
   "cell_type": "markdown",
   "metadata": {},
   "source": [
    "**Remove services from shortlisted bigrams**\n",
    "\n",
    "Sometimes, these service names are confused for some part of speech that they are not. Let's remove bigrams that capture the service names i.e. netflix, hulu, etc."
   ]
  },
  {
   "cell_type": "code",
   "execution_count": null,
   "metadata": {},
   "outputs": [],
   "source": [
    "# get a list of all unique service names\n",
    "services = service_name_map['Name_Mapping'].unique().tolist()\n",
    "\n",
    "# shortlist bigrams only where service name doesnt appear\n",
    "shortlisted_bigrams = []\n",
    "\n",
    "for i in subset_bigrams:\n",
    "    mask = []\n",
    "    for j in services:\n",
    "        mask.append(j in i)\n",
    "    if np.sum(mask) == 0:\n",
    "        shortlisted_bigrams.append(i)"
   ]
  },
  {
   "cell_type": "markdown",
   "metadata": {},
   "source": [
    "### Write out shortlisted bigrams to a csv"
   ]
  },
  {
   "cell_type": "code",
   "execution_count": null,
   "metadata": {},
   "outputs": [],
   "source": [
    "import numpy as np\n",
    "np.savetxt(\"shortlisted_bigrams.csv\", shortlisted_bigrams, delimiter=\",\", fmt='%s')"
   ]
  },
  {
   "cell_type": "markdown",
   "metadata": {},
   "source": [
    "### Checkpoint 2\n",
    "Read in the selected bigrams from csv"
   ]
  },
  {
   "cell_type": "code",
   "execution_count": null,
   "metadata": {},
   "outputs": [],
   "source": [
    "shortlisted_bigrams = pd.read_csv('shortlisted_bigrams.csv', header = None)\n",
    "shortlisted_bigrams = shortlisted_bigrams.loc[:,0].tolist()"
   ]
  },
  {
   "cell_type": "markdown",
   "metadata": {},
   "source": [
    "**Step 2:** *a) VADER sentiment scores for bigrams* <br>\n",
    "We will now get VADER sentiment scores for all the bigrams and then pick those which have clear meanings manually."
   ]
  },
  {
   "cell_type": "code",
   "execution_count": null,
   "metadata": {},
   "outputs": [],
   "source": [
    "from vaderSentiment.vaderSentiment import SentimentIntensityAnalyzer\n",
    "\n",
    "analyser = SentimentIntensityAnalyzer()\n",
    "\n",
    "#Lets get VADER's perspective on the sentiments of our bigrams. We will use shortlisted bigrams for this exercise.\n",
    "\n",
    "bigram_sentiment = {}\n",
    "\n",
    "for bigram in shortlisted_bigrams:\n",
    "    snt = analyser.polarity_scores(bigram)\n",
    "    bigram_sentiment[bigram] = snt\n",
    "    \n",
    "bigram_sentiment_df = np.transpose(pd.DataFrame(bigram_sentiment))\n",
    "bigram_sentiment_df.reset_index(inplace = True)\n",
    "\n",
    "# remove where the compound sentiment is 0\n",
    "mask_cs_0 = bigram_sentiment_df['compound'] == 0\n",
    "bigram_sentiment_df = bigram_sentiment_df.loc[~mask_cs_0, :]\n",
    "\n",
    "bigram_sentiment_df.to_csv('bigram_sentiment_vader.csv', index = False)"
   ]
  },
  {
   "cell_type": "markdown",
   "metadata": {},
   "source": [
    "### Checkpoint 3\n",
    "#### Read in VADER provided sentiment scores from csv"
   ]
  },
  {
   "cell_type": "code",
   "execution_count": null,
   "metadata": {},
   "outputs": [],
   "source": [
    "# read in csv\n",
    "bigram_sentiment_vader = pd.read_csv('bigram_sentiment_vader.csv')\n",
    "\n",
    "# keep only these columns\n",
    "bigram_sentiment_vader = bigram_sentiment_vader[['index', 'compound']]\n",
    "bigram_sentiment_vader.columns = ['Bigram', 'Net_Sentiment']"
   ]
  },
  {
   "cell_type": "markdown",
   "metadata": {},
   "source": [
    "**Step 2:** *b) VADER Sentiment Scores to get positive and negative words*"
   ]
  },
  {
   "cell_type": "code",
   "execution_count": null,
   "metadata": {},
   "outputs": [],
   "source": [
    "# create a corpus from all the comments\n",
    "corpus = \" \".join(df['comments'])\n",
    "\n",
    "# get the tokens from this corpus\n",
    "tokens = nltk.word_tokenize(corpus)\n",
    "\n",
    "# extract english stopwords from nltk\n",
    "en_stopwords = stopwords.words('english')\n",
    "\n",
    "# remove stopwords from the corpus of comments\n",
    "tokens_no_stopwords = [i.lower() for i in tokens if i.lower() not in en_stopwords]\n",
    "\n",
    "# remove punctuations from the corpus of tokens\n",
    "from string import punctuation\n",
    "tokens_no_stop_no_punctuations = [i for i in tokens_no_stopwords if i not in punctuation]\n",
    "\n",
    "# VADER sentiments for words\n",
    "from vaderSentiment.vaderSentiment import SentimentIntensityAnalyzer\n",
    "\n",
    "analyser = SentimentIntensityAnalyzer()\n",
    "\n",
    "#Lets get VADER's list of positive, negative and neutral words from my corpus\n",
    "all_unique_tokens = list(set(tokens_no_stop_no_punctuations))\n",
    "\n",
    "word_sentiment = {}\n",
    "\n",
    "for word in all_unique_tokens:\n",
    "    snt = analyser.polarity_scores(word)\n",
    "    word_sentiment[word] = snt\n",
    "    \n",
    "sentiment_df = np.transpose(pd.DataFrame(word_sentiment))"
   ]
  },
  {
   "cell_type": "markdown",
   "metadata": {},
   "source": [
    "#### Clean the words up, put them in a dataframe"
   ]
  },
  {
   "cell_type": "code",
   "execution_count": null,
   "metadata": {},
   "outputs": [],
   "source": [
    "from string import punctuation\n",
    "\n",
    "def remove_punctuation(s):\n",
    "    for i in punctuation:\n",
    "        s = s.replace(i, \"\")\n",
    "    return s\n",
    "\n",
    "# negative words list - words with 1 under the 'neg' column\n",
    "negative_words = sentiment_df.loc[sentiment_df['neg'] > 0, 'neg'].index.values\n",
    "negative_words = pd.Series(negative_words).map(remove_punctuation).drop_duplicates().tolist()\n",
    "negative_words = [x for x in negative_words if x]\n",
    "\n",
    "# positive words list - words with 1 under the 'pos' column\n",
    "positive_words = sentiment_df.loc[sentiment_df['pos'] > 0, 'pos'].index.values\n",
    "positive_words = pd.Series(positive_words).map(remove_punctuation).drop_duplicates().tolist()\n",
    "positive_words = [x for x in positive_words if x]\n",
    "\n",
    "# create dataframes for ease of use\n",
    "negative_words_df = pd.DataFrame({'Word':negative_words,\n",
    "                                 'Sentiment':np.repeat('negative', len(negative_words))})\n",
    "\n",
    "positive_words_df = pd.DataFrame({'Word':positive_words,\n",
    "                                 'Sentiment':np.repeat('positive', len(positive_words))})\n",
    "\n",
    "# append negative and positive words into one big dataframe\n",
    "all_words_sentiments = pd.concat([negative_words_df, positive_words_df], axis = 0, ignore_index=True)"
   ]
  },
  {
   "cell_type": "markdown",
   "metadata": {},
   "source": [
    "### Write out word sentiments to csv\n",
    "This is for use later."
   ]
  },
  {
   "cell_type": "code",
   "execution_count": null,
   "metadata": {},
   "outputs": [],
   "source": [
    "# write the positive and negative words onto a csv file\n",
    "all_words_sentiments.to_csv('words_sentiments.csv', index = False)"
   ]
  },
  {
   "cell_type": "markdown",
   "metadata": {},
   "source": [
    "### Checkpoint 4\n",
    "Read in word_sentiments from csv"
   ]
  },
  {
   "cell_type": "code",
   "execution_count": null,
   "metadata": {},
   "outputs": [],
   "source": [
    "all_words_sentiments = pd.read_csv('words_sentiments.csv')"
   ]
  },
  {
   "cell_type": "markdown",
   "metadata": {},
   "source": [
    "Replace all positive sentiment words with the phrase 'positive' and negative sentiment words with the phrase 'negative'. This is so that calculating the association between the bigrams and the positive and negative reference words becomes easier."
   ]
  },
  {
   "cell_type": "code",
   "execution_count": null,
   "metadata": {},
   "outputs": [],
   "source": [
    "import re\n",
    "def sentiment_by_phrase(s):\n",
    "    '''Given a string, this replaces the positive and negative sentiment words mentioned in it by placeholder phrases'''\n",
    "    global all_words_sentiments\n",
    "    \n",
    "    words_found = all_words_sentiments['Word'].map(lambda x: x in s)\n",
    "    subset_df = all_words_sentiments.loc[words_found,:].reset_index(drop = True)\n",
    "\n",
    "    for i in range(len(subset_df)):\n",
    "        s = re.sub(r\"\\b%s\\b\" %subset_df.loc[i, 'Word'], subset_df.loc[i, 'Sentiment'], s)\n",
    "    return s\n",
    "\n",
    "# replace words by their sentiments - retain a copy of the original.\n",
    "df_for_sentiment = df.copy()\n",
    "df_for_sentiment['comments'] = df_for_sentiment['comments'].map(sentiment_by_phrase)"
   ]
  },
  {
   "cell_type": "markdown",
   "metadata": {},
   "source": [
    "### Checkpoint 5\n",
    "Output `df_for_sentiment` to csv"
   ]
  },
  {
   "cell_type": "code",
   "execution_count": null,
   "metadata": {},
   "outputs": [],
   "source": [
    "df_for_sentiment.to_csv('df_for_sentiment.csv', index = False)"
   ]
  },
  {
   "cell_type": "markdown",
   "metadata": {},
   "source": [
    "### Restore from checkpoint 5\n",
    "Read in the df_for_sentiment from csv"
   ]
  },
  {
   "cell_type": "code",
   "execution_count": null,
   "metadata": {},
   "outputs": [],
   "source": [
    "df_for_sentiment = pd.read_csv('df_for_sentiment.csv')"
   ]
  },
  {
   "cell_type": "markdown",
   "metadata": {},
   "source": [
    "When we replaced the positive and negative words by placeholders, some of our original bigrams would have been damaged. This is why we create a copy of the original dataframe. We will use this dataframe only to get a 1/0 representation of which rows have the positive/negative placeholders. This will be overlayed with where the bigrams are and lift calculations would be done."
   ]
  },
  {
   "cell_type": "markdown",
   "metadata": {},
   "source": [
    "Let's remove the bigrams which have clear sentiments on their own and dont need lift calculations.\n",
    "\n",
    "### Note - \n",
    "This is one of the places, I have manually made changes. So the file we create with VADER sentiment scores with bigrams `bigram_sentiment_vader`, had all bigrams with their VADER sentiment scores. I removed bigrams from it that had no clear negative or positive connotation."
   ]
  },
  {
   "cell_type": "code",
   "execution_count": null,
   "metadata": {},
   "outputs": [],
   "source": [
    "# already calculated are those that were analyzed by vader\n",
    "sent_already_calculated = bigram_sentiment_vader['Bigram'].unique().tolist()\n",
    "\n",
    "# remainder are what are in shortlisted but not in already calculated\n",
    "sent_to_be_calculated = list(set(shortlisted_bigrams) - set(sent_already_calculated))"
   ]
  },
  {
   "cell_type": "code",
   "execution_count": null,
   "metadata": {},
   "outputs": [],
   "source": [
    "# we have to find all so that we can calculate lift between services and bigrams later\n",
    "bigram_to_find = sent_already_calculated + sent_to_be_calculated\n",
    "\n",
    "# Check for bigram presence in comments\n",
    "def check_for_bigram(s):\n",
    "    global bigram_to_find\n",
    "    \n",
    "    answer = []\n",
    "    \n",
    "    for i in bigram_to_find:\n",
    "        answer.append(int(i in s))\n",
    "    \n",
    "    return answer\n",
    "\n",
    "# check each bi-gram and where it is found\n",
    "found_bi_gram = df['comments'].map(check_for_bigram)\n",
    "\n",
    "# create a dictionary to hold a bigram and index where it's found in the data.\n",
    "bi_gram_dict= {}\n",
    "\n",
    "for i in range(len(bigram_to_find)):\n",
    "    bi_gram_dict[bigram_to_find[i]] = [j[i] for j in found_bi_gram]\n",
    "\n",
    "# create a dataframe with columns as bi-grams and 1/0 as rows indicating presence.\n",
    "found_bi_gram_df = pd.DataFrame(bi_gram_dict)"
   ]
  },
  {
   "cell_type": "markdown",
   "metadata": {},
   "source": [
    "### Checkpoint 6\n",
    "#### Write out found_bi_gram_df to csv"
   ]
  },
  {
   "cell_type": "code",
   "execution_count": null,
   "metadata": {},
   "outputs": [],
   "source": [
    "found_bi_gram_df.to_csv('found_bi_gram_df.csv', index = False)"
   ]
  },
  {
   "cell_type": "markdown",
   "metadata": {},
   "source": [
    "#### Read in found_bi_gram_df from csv"
   ]
  },
  {
   "cell_type": "code",
   "execution_count": null,
   "metadata": {},
   "outputs": [],
   "source": [
    "found_bi_gram_df = pd.read_csv('found_bi_gram_df.csv')"
   ]
  },
  {
   "cell_type": "markdown",
   "metadata": {},
   "source": [
    "**Step 2:** *c) Lift between remaining bigrams and the reference positive and negative words*\n",
    "1. Represent `df_for_sentiment` as a bag of words and isolate the positive and negative columns.\n",
    "2. Need to append the `found_bi_gram` dataframe to it column wise.\n",
    "3. Get lift between all bigrams and positive and all bi-grams and negative."
   ]
  },
  {
   "cell_type": "code",
   "execution_count": null,
   "metadata": {},
   "outputs": [],
   "source": [
    "# Bag of words representation of the df_for_sentiments dataframe\n",
    "from sklearn.feature_extraction.text import CountVectorizer\n",
    "count_vectorizer = CountVectorizer()\n",
    "\n",
    "# these are counts of all words in the messages\n",
    "X = np.array(df_for_sentiment['comments'])\n",
    "X_counts = count_vectorizer.fit_transform(X)\n",
    "\n",
    "# column names for the counts\n",
    "X_counts_matrix = np.where(X_counts.todense() > 0 , 1, 0)\n",
    "column_names = [x for (x,y) in sorted(count_vectorizer.vocabulary_.items(), key = lambda x:x[1])]\n",
    "\n",
    "count_df_for_sentiment = pd.DataFrame(X_counts_matrix, columns = column_names)\n",
    "count_df_for_sentiment.head()"
   ]
  },
  {
   "cell_type": "code",
   "execution_count": null,
   "metadata": {},
   "outputs": [],
   "source": [
    "# append count_df_for_sentiment with the dataframe having the locations of the bigrams\n",
    "sentiment_df = count_df_for_sentiment[['positive', 'negative']]\n",
    "bigram_sentiment_for_lift = pd.concat([sentiment_df, found_bi_gram_df], axis = 1)"
   ]
  },
  {
   "cell_type": "code",
   "execution_count": null,
   "metadata": {},
   "outputs": [],
   "source": [
    "# get combinations of bigrams and words for which we need to calculate the lift\n",
    "bigram_sentiment_combinations = [(i,j) for i in sent_to_be_calculated for j in ['positive', 'negative']]"
   ]
  },
  {
   "cell_type": "code",
   "execution_count": null,
   "metadata": {},
   "outputs": [],
   "source": [
    "def calc_lift(df, pairs):\n",
    "    '''Given a list of brand pairs, calculate the lift values between the two'''\n",
    "    lift_values = []\n",
    "    \n",
    "    calc_df = df.copy()\n",
    "    for i in range(len(pairs)):\n",
    "        \n",
    "        # sum means where both brands appear\n",
    "        calc_df['sum'] = calc_df.loc[:,pairs[i]].apply(sum, axis = 1)\n",
    "        \n",
    "        # How many rows have both brands?\n",
    "        count_both = (calc_df['sum'] == 2).sum()\n",
    "        \n",
    "        # how many rows have just the first brand\n",
    "        count_first = calc_df[pairs[i][0]].sum()\n",
    "        \n",
    "        # how many rows have just the second brand\n",
    "        count_second = calc_df[pairs[i][1]].sum()\n",
    "        \n",
    "        # get the lift value\n",
    "        lift = (len(calc_df)*count_both)/(count_first * count_second)\n",
    "        lift_values.append(lift)\n",
    "    \n",
    "    output_df = pd.DataFrame({'Bigram': [p[0] for p in pairs],\n",
    "                             'Sentiment': [p[1] for p in pairs],\n",
    "                             'Lift': lift_values})\n",
    "    return output_df\n",
    "\n",
    "# calculate lift between the different brands\n",
    "lift_values = calc_lift(bigram_sentiment_for_lift, bigram_sentiment_combinations)\n",
    "\n",
    "# sort lift by most to least\n",
    "lift_values = lift_values.sort_values(['Bigram', 'Lift'], ascending = [True, False]).reset_index(drop = True)"
   ]
  },
  {
   "cell_type": "markdown",
   "metadata": {},
   "source": [
    "**Step 4:** *Semantic Orientation for bigrams using difference of lifts*"
   ]
  },
  {
   "cell_type": "code",
   "execution_count": null,
   "metadata": {},
   "outputs": [],
   "source": [
    "bigram_sentiment_net = lift_values.pivot(index = 'Bigram', columns = 'Sentiment', values = 'Lift').reset_index()\n",
    "bigram_sentiment_net.columns = ['Bigram', 'Negative', 'Positive']\n",
    "\n",
    "# drop NA values if any\n",
    "bigram_sentiment_net.dropna(inplace = True, how = 'any')\n",
    "\n",
    "bigram_sentiment_net['Net_Sentiment'] = np.log2(bigram_sentiment_net['Positive']) - np.log2(bigram_sentiment_net['Negative'])\n",
    "bigram_sentiment_net.head()"
   ]
  },
  {
   "cell_type": "code",
   "execution_count": null,
   "metadata": {},
   "outputs": [],
   "source": [
    "bigram_sentiment_net = bigram_sentiment_net[['Bigram', 'Net_Sentiment']]\n",
    "\n",
    "# append the bigram_sentiment_df to the lift_pivot\n",
    "all_bigram_sentiments = pd.concat([bigram_sentiment_net, bigram_sentiment_vader], axis = 0, ignore_index = True)"
   ]
  },
  {
   "cell_type": "markdown",
   "metadata": {},
   "source": [
    "### Checkpoint 7\n",
    "#### Write out `lift_pivot` to a csv file."
   ]
  },
  {
   "cell_type": "code",
   "execution_count": null,
   "metadata": {},
   "outputs": [],
   "source": [
    "# lift_pivot to a csv file.\n",
    "all_bigram_sentiments.to_csv('all_bigram_sentiments.csv', index = False)"
   ]
  },
  {
   "cell_type": "code",
   "execution_count": null,
   "metadata": {},
   "outputs": [],
   "source": [
    "# read lift_pivot from a csv.\n",
    "all_bigram_sentiments = pd.read_csv('all_bigram_sentiments.csv')"
   ]
  },
  {
   "cell_type": "markdown",
   "metadata": {},
   "source": [
    "## Get the bigrams most associated with service providers.\n",
    "Now that we have got the sentiment scores for each bigram, the next step is to calculate the association between those bigrams and the services so that we know which ones are being said most about which company. <br>\n",
    "\n",
    "Once this is done we will know which company is being talked about, what people are saying and whether its a good thing or bad!"
   ]
  },
  {
   "cell_type": "code",
   "execution_count": null,
   "metadata": {},
   "outputs": [],
   "source": [
    "from sklearn.feature_extraction.text import CountVectorizer\n",
    "count_vectorizer = CountVectorizer()\n",
    "\n",
    "# these are counts of all words in the messages\n",
    "X = np.array(df['comments'])\n",
    "X_counts = count_vectorizer.fit_transform(X)\n",
    "\n",
    "# column names for the counts\n",
    "X_counts_matrix = np.where(X_counts.todense() > 0 , 1, 0)\n",
    "column_names = [x for (x,y) in sorted(count_vectorizer.vocabulary_.items(), key = lambda x:x[1])]\n",
    "\n",
    "count_df = pd.DataFrame(X_counts_matrix, columns = column_names)\n",
    "count_df.head()"
   ]
  },
  {
   "cell_type": "code",
   "execution_count": null,
   "metadata": {},
   "outputs": [],
   "source": [
    "# read in the text file\n",
    "service_name_map = pd.read_excel('service_name_cleaning.xlsx')\n",
    "service_name_map['Service_Name'] = service_name_map['Service_Name'].map(lambda x:x.lower())\n",
    "service_name_map['Name_Mapping'] = service_name_map['Name_Mapping'].map(lambda x:x.lower())\n",
    "\n",
    "services = service_name_map['Name_Mapping'].unique().tolist()\n",
    "\n",
    "# Check for service names present in comments\n",
    "def check_for_services(s):\n",
    "    global services\n",
    "    answer = []\n",
    "    \n",
    "    for i in services:\n",
    "        answer.append(int(i in s))\n",
    "    \n",
    "    return answer\n",
    "\n",
    "# check each service and where it is found\n",
    "found_services = df['comments'].map(check_for_services)\n",
    "\n",
    "# create a dictionary to hold a service and index where it's found in the data.\n",
    "services_dict= {}\n",
    "\n",
    "for i in range(len(services)):\n",
    "    services_dict[services[i]] = [j[i] for j in found_services]\n",
    "\n",
    "# create a dataframe with columns as services and 1/0 as rows indicating presence.\n",
    "found_services_df = pd.DataFrame(services_dict)"
   ]
  },
  {
   "cell_type": "code",
   "execution_count": null,
   "metadata": {},
   "outputs": [],
   "source": [
    "# concatenate found_bi_gram_df and found_services_df\n",
    "bigram_services_df = pd.concat([found_bi_gram_df, found_services_df], axis = 1)\n",
    "\n",
    "# combinations to calculate lift for\n",
    "service_bigram_combinations = [(i,j) for i in services for j in all_bigram_sentiments['Bigram'].tolist()]\n",
    "\n",
    "# calculate the lift\n",
    "def calc_lift(df, pairs):\n",
    "    '''Given a list of brand pairs, calculate the lift values between the two'''\n",
    "    lift_values = []\n",
    "    \n",
    "    calc_df = df.copy()\n",
    "    \n",
    "    for i in range(len(pairs)):\n",
    "        \n",
    "        # sum means where both brands appear\n",
    "        calc_df['sum'] = calc_df.loc[:,pairs[i]].apply(sum, axis = 1)\n",
    "        \n",
    "        # How many rows have both brands?\n",
    "        count_both = (calc_df['sum'] == 2).sum()\n",
    "        \n",
    "        # how many rows have just the first brand\n",
    "        count_first = calc_df[pairs[i][0]].sum()\n",
    "        \n",
    "        # how many rows have just the second brand\n",
    "        count_second = calc_df[pairs[i][1]].sum()\n",
    "        \n",
    "        # get the lift value\n",
    "        lift = (len(calc_df)*count_both)/(count_first * count_second)\n",
    "        lift_values.append(lift)\n",
    "    \n",
    "    output_df = pd.DataFrame({'Service': [p[0] for p in pairs],\n",
    "                             'Bigram': [p[1] for p in pairs],\n",
    "                             'Lift': lift_values})\n",
    "    return output_df\n",
    "\n",
    "# calculate lift between the different brands\n",
    "bigram_service_lift = calc_lift(bigram_services_df, service_bigram_combinations)\n",
    "\n",
    "# sort lift by most to least\n",
    "bigram_service_lift = bigram_service_lift.sort_values(['Service', 'Lift'], ascending = [True, False]).reset_index(drop = True)"
   ]
  },
  {
   "cell_type": "markdown",
   "metadata": {},
   "source": [
    "### Remove service-bigram combinations with 0 lift"
   ]
  },
  {
   "cell_type": "code",
   "execution_count": null,
   "metadata": {},
   "outputs": [],
   "source": [
    "mask_lift_0 = bigram_service_lift['Lift'] == 0\n",
    "bigram_service_lift = bigram_service_lift.loc[~mask_lift_0, :]\n",
    "\n",
    "bigram_service_lift.head()"
   ]
  },
  {
   "cell_type": "markdown",
   "metadata": {},
   "source": [
    "### Checkpoint 8"
   ]
  },
  {
   "cell_type": "code",
   "execution_count": null,
   "metadata": {},
   "outputs": [],
   "source": [
    "# write out service bigram lift values to csv\n",
    "bigram_service_lift.to_csv('bigram_service_lift.csv', index = False)"
   ]
  },
  {
   "cell_type": "code",
   "execution_count": null,
   "metadata": {},
   "outputs": [],
   "source": [
    "# read service bigram lift values from csv\n",
    "service_bigram_lift = pd.read_csv('bigram_service_lift.csv')\n",
    "service_bigram_lift.head()"
   ]
  }
 ],
 "metadata": {
  "kernelspec": {
   "display_name": "Python 3",
   "language": "python",
   "name": "python3"
  },
  "language_info": {
   "codemirror_mode": {
    "name": "ipython",
    "version": 3
   },
   "file_extension": ".py",
   "mimetype": "text/x-python",
   "name": "python",
   "nbconvert_exporter": "python",
   "pygments_lexer": "ipython3",
   "version": "3.6.7"
  }
 },
 "nbformat": 4,
 "nbformat_minor": 2
}
