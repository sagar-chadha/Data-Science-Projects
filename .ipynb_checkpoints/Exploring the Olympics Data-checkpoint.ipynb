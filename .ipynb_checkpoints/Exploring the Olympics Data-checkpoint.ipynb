{
 "cells": [
  {
   "cell_type": "markdown",
   "metadata": {},
   "source": [
    "## Exploring the Olympics dataset"
   ]
  },
  {
   "cell_type": "markdown",
   "metadata": {},
   "source": [
    "Have you ever had a sports clash turn into a data analytics project? Well, this is what happened to me and a close group of friends during one casual conversation about sports!!\n",
    "\n",
    "We decided to do some number crunching on 120 years of olympics to see which are the best performing countries at the olympics and what makes them great!\n",
    "\n",
    "We got the [olympics dataset](https://www.kaggle.com/heesoo37/120-years-of-olympic-history-athletes-and-results) from kaggle, and decided to merge it with the country wise [gdp](https://www.kaggle.com/resulcaliskan/countries-gdps) and [population data](https://www.kaggle.com/centurion1986/countries-population).\n",
    "\n",
    "With our weapons ready, its time to see who's BOSS!"
   ]
  },
  {
   "cell_type": "code",
   "execution_count": 1,
   "metadata": {},
   "outputs": [
    {
     "name": "stdout",
     "output_type": "stream",
     "text": [
      "Populating the interactive namespace from numpy and matplotlib\n"
     ]
    }
   ],
   "source": [
    "import pandas as pd\n",
    "import numpy as np\n",
    "%pylab inline"
   ]
  },
  {
   "cell_type": "code",
   "execution_count": 2,
   "metadata": {},
   "outputs": [
    {
     "name": "stdout",
     "output_type": "stream",
     "text": [
      "   ID                      Name Sex   Age  Height  Weight            Team  \\\n",
      "0   1                 A Dijiang   M  24.0   180.0    80.0           China   \n",
      "1   2                  A Lamusi   M  23.0   170.0    60.0           China   \n",
      "2   3       Gunnar Nielsen Aaby   M  24.0     NaN     NaN         Denmark   \n",
      "3   4      Edgar Lindenau Aabye   M  34.0     NaN     NaN  Denmark/Sweden   \n",
      "4   5  Christine Jacoba Aaftink   F  21.0   185.0    82.0     Netherlands   \n",
      "\n",
      "   NOC        Games  Year  Season       City          Sport  \\\n",
      "0  CHN  1992 Summer  1992  Summer  Barcelona     Basketball   \n",
      "1  CHN  2012 Summer  2012  Summer     London           Judo   \n",
      "2  DEN  1920 Summer  1920  Summer  Antwerpen       Football   \n",
      "3  DEN  1900 Summer  1900  Summer      Paris     Tug-Of-War   \n",
      "4  NED  1988 Winter  1988  Winter    Calgary  Speed Skating   \n",
      "\n",
      "                              Event Medal  \n",
      "0       Basketball Men's Basketball   NaN  \n",
      "1      Judo Men's Extra-Lightweight   NaN  \n",
      "2           Football Men's Football   NaN  \n",
      "3       Tug-Of-War Men's Tug-Of-War  Gold  \n",
      "4  Speed Skating Women's 500 metres   NaN  \n"
     ]
    }
   ],
   "source": [
    "# Read in the data set\n",
    "olympics = pd.read_csv('C:/Users/sagar/Desktop/My Work/McCombs Stuff/MSBA Courses/Data Analytics Programming/Group Project/Data/athlete_events.csv')\n",
    "print olympics.head()"
   ]
  },
  {
   "cell_type": "markdown",
   "metadata": {},
   "source": [
    "### Data exploration and Basic Hygiene"
   ]
  },
  {
   "cell_type": "markdown",
   "metadata": {},
   "source": [
    "#### 1) Missing Values"
   ]
  },
  {
   "cell_type": "code",
   "execution_count": 3,
   "metadata": {},
   "outputs": [
    {
     "name": "stdout",
     "output_type": "stream",
     "text": [
      "ID             0\n",
      "Name           0\n",
      "Sex            0\n",
      "Age         9474\n",
      "Height     60171\n",
      "Weight     62875\n",
      "Team           0\n",
      "NOC            0\n",
      "Games          0\n",
      "Year           0\n",
      "Season         0\n",
      "City           0\n",
      "Sport          0\n",
      "Event          0\n",
      "Medal     231333\n",
      "dtype: int64\n"
     ]
    }
   ],
   "source": [
    "print olympics.isnull().sum()"
   ]
  },
  {
   "cell_type": "markdown",
   "metadata": {},
   "source": [
    "We find that height, weight and Age have a lot of missing values. Medals have a NaN in about 2,31,333 rows. These can be explained since not all participating athletes would win medals.\n",
    "\n",
    "Let's replace these missing values by 'Did not win' or 'DNW'"
   ]
  },
  {
   "cell_type": "code",
   "execution_count": 4,
   "metadata": {},
   "outputs": [],
   "source": [
    "olympics['Medal'].fillna('DNW', inplace = True)"
   ]
  },
  {
   "cell_type": "markdown",
   "metadata": {},
   "source": [
    "#### 2) NOC - National Olympic Committee. \n",
    "These are responsible for organizing their people's participation in the Olympics.\n",
    "Are all NOCs linked to a unique team? We can find this out by taking a unique subset of just the NOC and team columns and taking a value count."
   ]
  },
  {
   "cell_type": "code",
   "execution_count": 10,
   "metadata": {},
   "outputs": [
    {
     "name": "stdout",
     "output_type": "stream",
     "text": [
      "FRA    160\n",
      "USA     97\n",
      "GBR     96\n",
      "SWE     52\n",
      "NOR     46\n",
      "Name: NOC, dtype: int64\n"
     ]
    }
   ],
   "source": [
    "print olympics.loc[:, ['NOC', 'Team']].drop_duplicates()['NOC'].value_counts().head()"
   ]
  },
  {
   "cell_type": "markdown",
   "metadata": {},
   "source": [
    "Hmm, This looks interesting. So NOC code 'FRA' is associated with 160 teams? That sounds prepostorous! Let's do a groupby and verify this."
   ]
  },
  {
   "cell_type": "code",
   "execution_count": 11,
   "metadata": {},
   "outputs": [
    {
     "name": "stdout",
     "output_type": "stream",
     "text": [
      "160\n"
     ]
    }
   ],
   "source": [
    "olympics_NOC_Team = olympics.groupby(['NOC', 'Team'])[['Medal']].agg('count').reset_index()\n",
    "\n",
    "print len(olympics_NOC_Team.loc[olympics_NOC_Team['NOC'] == 'FRA', :])"
   ]
  },
  {
   "cell_type": "markdown",
   "metadata": {},
   "source": [
    "So this is true! Okay let's use a master of NOC to country mapping to correct this."
   ]
  },
  {
   "cell_type": "code",
   "execution_count": 12,
   "metadata": {},
   "outputs": [
    {
     "name": "stdout",
     "output_type": "stream",
     "text": [
      "   NOC      Country\n",
      "0  AFG  Afghanistan\n",
      "1  AHO      Curacao\n",
      "2  ALB      Albania\n",
      "3  ALG      Algeria\n",
      "4  AND      Andorra\n"
     ]
    }
   ],
   "source": [
    "# Lets read in the noc_country mapping first\n",
    "noc_country = pd.read_csv('C:/Users/sagar/Desktop/My Work/McCombs Stuff/MSBA Courses/Data Analytics Programming/Group Project/Data/noc_regions.csv')\n",
    "noc_country.drop('notes', axis = 1 , inplace = True)\n",
    "noc_country.rename(columns = {'region':'Country'}, inplace = True)\n",
    "\n",
    "print noc_country.head()"
   ]
  },
  {
   "cell_type": "markdown",
   "metadata": {},
   "source": [
    "We now need to merge the original dataset with the NOC master using the NOC code as the primary key. This has to be a left join since we want all participating countries to remain in the data even if their NOC-Country is not found in the master. We can easily correct those manually."
   ]
  },
  {
   "cell_type": "code",
   "execution_count": 13,
   "metadata": {},
   "outputs": [
    {
     "name": "stdout",
     "output_type": "stream",
     "text": [
      "   ID                      Name Sex   Age  Height  Weight            Team  \\\n",
      "0   1                 A Dijiang   M  24.0   180.0    80.0           China   \n",
      "1   2                  A Lamusi   M  23.0   170.0    60.0           China   \n",
      "2   3       Gunnar Nielsen Aaby   M  24.0     NaN     NaN         Denmark   \n",
      "3   4      Edgar Lindenau Aabye   M  34.0     NaN     NaN  Denmark/Sweden   \n",
      "4   5  Christine Jacoba Aaftink   F  21.0   185.0    82.0     Netherlands   \n",
      "\n",
      "   NOC        Games  Year  Season       City          Sport  \\\n",
      "0  CHN  1992 Summer  1992  Summer  Barcelona     Basketball   \n",
      "1  CHN  2012 Summer  2012  Summer     London           Judo   \n",
      "2  DEN  1920 Summer  1920  Summer  Antwerpen       Football   \n",
      "3  DEN  1900 Summer  1900  Summer      Paris     Tug-Of-War   \n",
      "4  NED  1988 Winter  1988  Winter    Calgary  Speed Skating   \n",
      "\n",
      "                              Event Medal      Country  \n",
      "0       Basketball Men's Basketball   DNW        China  \n",
      "1      Judo Men's Extra-Lightweight   DNW        China  \n",
      "2           Football Men's Football   DNW      Denmark  \n",
      "3       Tug-Of-War Men's Tug-Of-War  Gold      Denmark  \n",
      "4  Speed Skating Women's 500 metres   DNW  Netherlands  \n"
     ]
    }
   ],
   "source": [
    "# merging\n",
    "olympics_merge = olympics.merge(noc_country,\n",
    "                                left_on = 'NOC',\n",
    "                                right_on = 'NOC',\n",
    "                                how = 'left')\n",
    "\n",
    "print olympics_merge.head()"
   ]
  },
  {
   "cell_type": "markdown",
   "metadata": {},
   "source": [
    "Do we having NOCs in olympics that are not found in the NOC master data?"
   ]
  },
  {
   "cell_type": "code",
   "execution_count": 14,
   "metadata": {},
   "outputs": [
    {
     "name": "stdout",
     "output_type": "stream",
     "text": [
      "        NOC                      Team\n",
      "578     SGP                 Singapore\n",
      "6267    ROT  Refugee Olympic Athletes\n",
      "44376   SGP              June Climene\n",
      "61080   UNK                   Unknown\n",
      "64674   TUV                    Tuvalu\n",
      "80986   SGP                   Rika II\n",
      "108582  SGP               Singapore-2\n",
      "235895  SGP               Singapore-1\n"
     ]
    }
   ],
   "source": [
    "# Do we have NOCs that didnt have a matching country in the master?\n",
    "print olympics_merge.loc[olympics_merge['Country'].isnull(),['NOC', 'Team']].drop_duplicates()"
   ]
  },
  {
   "cell_type": "markdown",
   "metadata": {},
   "source": [
    "So, we see that SGP, ROT, UNK and TUV from the olympics data find no match in the NOC master data. Looking at their 'Team' names we can manually insert the correct values into the olympics data.\n",
    "\n",
    "Let's put these values in Country - <br>\n",
    "    1. SGP - Singapore\n",
    "    2. ROT - Refugee Olympic Athletes\n",
    "    3. UNK - Unknown\n",
    "    4. TUV - Tuvalu"
   ]
  },
  {
   "cell_type": "code",
   "execution_count": 15,
   "metadata": {},
   "outputs": [],
   "source": [
    "# Replace missing Teams by the values above.\n",
    "#olympics_merge.loc[olympics_merge['Country'].isnull(), ['Country']] = olympics_merge['Team']\n",
    "\n",
    "olympics_merge['Country'] = np.where(olympics_merge['NOC']=='SGP', 'Singapore', olympics_merge['Country'])\n",
    "olympics_merge['Country'] = np.where(olympics_merge['NOC']=='ROT', 'Refugee Olympic Athletes', olympics_merge['Country'])\n",
    "olympics_merge['Country'] = np.where(olympics_merge['NOC']=='UNK', 'Unknown', olympics_merge['Country'])\n",
    "olympics_merge['Country'] = np.where(olympics_merge['NOC']=='TUV', 'Tuvalu', olympics_merge['Country'])\n",
    "\n",
    "\n",
    "# Put these values from Country into Team\n",
    "olympics_merge.drop('Team', axis = 1, inplace = True)\n",
    "olympics_merge.rename(columns = {'Country': 'Team'}, inplace = True)"
   ]
  },
  {
   "cell_type": "markdown",
   "metadata": {},
   "source": [
    "Checking again for mapping of NOC to team we find that each is mapped to a single value! Nice!"
   ]
  },
  {
   "cell_type": "code",
   "execution_count": 16,
   "metadata": {},
   "outputs": [
    {
     "name": "stdout",
     "output_type": "stream",
     "text": [
      "PNG    1\n",
      "BUL    1\n",
      "UGA    1\n",
      "TKM    1\n",
      "SCG    1\n",
      "Name: NOC, dtype: int64\n"
     ]
    }
   ],
   "source": [
    "print olympics_merge.loc[:, ['NOC', 'Team']].drop_duplicates()['NOC'].value_counts().head()"
   ]
  },
  {
   "cell_type": "markdown",
   "metadata": {},
   "source": [
    "### Merge GDP data"
   ]
  },
  {
   "cell_type": "code",
   "execution_count": 17,
   "metadata": {},
   "outputs": [
    {
     "name": "stdout",
     "output_type": "stream",
     "text": [
      "     Country Name Country Code  Year           GDP\n",
      "0     Afghanistan          AFG  1960  5.377778e+08\n",
      "1         Albania          ALB  1960           NaN\n",
      "2         Algeria          DZA  1960  2.723649e+09\n",
      "3  American Samoa          ASM  1960           NaN\n",
      "4         Andorra          AND  1960           NaN\n"
     ]
    }
   ],
   "source": [
    "# Glance at the data.\n",
    "w_gdp = pd.read_csv('C:/Users/sagar/Desktop/My Work/McCombs Stuff/MSBA Courses/Data Analytics Programming/Group Project\\Data\\world_gdp.csv', skiprows = 3)\n",
    "\n",
    "# Remove unnecessary columns\n",
    "w_gdp.drop(['Indicator Name', 'Indicator Code'], axis = 1, inplace = True)\n",
    "\n",
    "# The columns are the years for which the GDP has been recorded. This needs to brought into a single column for efficient\n",
    "# merging.\n",
    "w_gdp = pd.melt(w_gdp, id_vars = ['Country Name', 'Country Code'], var_name = 'Year', value_name = 'GDP')\n",
    "\n",
    "# convert the year column to numeric\n",
    "w_gdp['Year'] = pd.to_numeric(w_gdp['Year'])\n",
    "\n",
    "print w_gdp.head()"
   ]
  },
  {
   "cell_type": "markdown",
   "metadata": {},
   "source": [
    "Looking at the data we find that 'Indicator Name' and 'Indicator Code' have only one value in the entire column. We can therefore safely remove these columns from the dataset."
   ]
  },
  {
   "cell_type": "markdown",
   "metadata": {},
   "source": [
    "Before we actually merge, lets check if NOCs in the olympics data match with those in the Country Code."
   ]
  },
  {
   "cell_type": "code",
   "execution_count": 18,
   "metadata": {},
   "outputs": [
    {
     "name": "stdout",
     "output_type": "stream",
     "text": [
      "108\n"
     ]
    }
   ],
   "source": [
    "print len(list(set(olympics_merge['NOC'].unique()) - set(w_gdp['Country Code'].unique())))"
   ]
  },
  {
   "cell_type": "markdown",
   "metadata": {},
   "source": [
    "So, 108 NOCs in the olympics dataset dont have representation in the gdp data country codes. Is the name of the country a better way to merge?"
   ]
  },
  {
   "cell_type": "code",
   "execution_count": 19,
   "metadata": {},
   "outputs": [
    {
     "name": "stdout",
     "output_type": "stream",
     "text": [
      "5\n"
     ]
    }
   ],
   "source": [
    "print len(list(set(olympics_merge['Team'].unique()) - set(w_gdp['Country Name'].unique())))"
   ]
  },
  {
   "cell_type": "markdown",
   "metadata": {},
   "source": [
    "Aha! only 5! What countries are these? So maybe what I can do is, add a country code for each Team in the olympics dataset to help ease things."
   ]
  },
  {
   "cell_type": "code",
   "execution_count": 20,
   "metadata": {},
   "outputs": [],
   "source": [
    "# Merge to get country code\n",
    "olympics_merge_ccode = olympics_merge.merge(w_gdp[['Country Name', 'Country Code']].drop_duplicates(),\n",
    "                                            left_on = 'Team',\n",
    "                                            right_on = 'Country Name',\n",
    "                                            how = 'left')\n",
    "\n",
    "olympics_merge_ccode.drop('Country Name', axis = 1, inplace = True)\n",
    "\n",
    "# Merge to get gdp too\n",
    "olympics_merge_gdp = olympics_merge_ccode.merge(w_gdp,\n",
    "                                                left_on = ['Country Code', 'Year'],\n",
    "                                                right_on = ['Country Code', 'Year'],\n",
    "                                                how = 'left')\n",
    "\n",
    "olympics_merge_gdp.drop('Country Name', axis = 1, inplace = True)"
   ]
  },
  {
   "cell_type": "markdown",
   "metadata": {},
   "source": [
    "### Merge Population Data"
   ]
  },
  {
   "cell_type": "code",
   "execution_count": 21,
   "metadata": {},
   "outputs": [
    {
     "name": "stdout",
     "output_type": "stream",
     "text": [
      "       Country Country Code  Year  Population\n",
      "0        Aruba          ABW  1960     54211.0\n",
      "1  Afghanistan          AFG  1960   8996351.0\n",
      "2       Angola          AGO  1960   5643182.0\n",
      "3      Albania          ALB  1960   1608800.0\n",
      "4      Andorra          AND  1960     13411.0\n"
     ]
    }
   ],
   "source": [
    "# Read in the population data\n",
    "w_pop = pd.read_csv('C:/Users/sagar/Desktop/My Work/McCombs Stuff/MSBA Courses/Data Analytics Programming/Group Project\\Data\\world_pop.csv')\n",
    "\n",
    "w_pop.drop(['Indicator Name', 'Indicator Code'], axis = 1, inplace = True)\n",
    "\n",
    "w_pop = pd.melt(w_pop, id_vars = ['Country', 'Country Code'], var_name = 'Year', value_name = 'Population')\n",
    "\n",
    "# Change the Year to integer type\n",
    "w_pop['Year'] = pd.to_numeric(w_pop['Year'])\n",
    "\n",
    "print w_pop.head()"
   ]
  },
  {
   "cell_type": "code",
   "execution_count": 24,
   "metadata": {},
   "outputs": [
    {
     "name": "stdout",
     "output_type": "stream",
     "text": [
      "   ID                      Name Sex   Age  Height  Weight  NOC        Games  \\\n",
      "0   1                 A Dijiang   M  24.0   180.0    80.0  CHN  1992 Summer   \n",
      "1   2                  A Lamusi   M  23.0   170.0    60.0  CHN  2012 Summer   \n",
      "2   3       Gunnar Nielsen Aaby   M  24.0     NaN     NaN  DEN  1920 Summer   \n",
      "3   4      Edgar Lindenau Aabye   M  34.0     NaN     NaN  DEN  1900 Summer   \n",
      "4   5  Christine Jacoba Aaftink   F  21.0   185.0    82.0  NED  1988 Winter   \n",
      "\n",
      "   Year  Season       City          Sport                             Event  \\\n",
      "0  1992  Summer  Barcelona     Basketball       Basketball Men's Basketball   \n",
      "1  2012  Summer     London           Judo      Judo Men's Extra-Lightweight   \n",
      "2  1920  Summer  Antwerpen       Football           Football Men's Football   \n",
      "3  1900  Summer      Paris     Tug-Of-War       Tug-Of-War Men's Tug-Of-War   \n",
      "4  1988  Winter    Calgary  Speed Skating  Speed Skating Women's 500 metres   \n",
      "\n",
      "  Medal         Team Country Code           GDP    Population  \n",
      "0   DNW        China          CHN  4.269160e+11  1.164970e+09  \n",
      "1   DNW        China          CHN  8.560550e+12  1.350695e+09  \n",
      "2   DNW      Denmark          DNK           NaN           NaN  \n",
      "3  Gold      Denmark          DNK           NaN           NaN  \n",
      "4   DNW  Netherlands          NLD  2.585680e+11  1.476009e+07  \n"
     ]
    }
   ],
   "source": [
    "olympics_complete = olympics_merge_gdp.merge(w_pop,\n",
    "                                            left_on = ['Country Code', 'Year'],\n",
    "                                            right_on= ['Country Code', 'Year'],\n",
    "                                            how = 'left')\n",
    "\n",
    "olympics_complete.drop('Country', axis = 1, inplace = True)\n",
    "\n",
    "print olympics_complete.head()"
   ]
  },
  {
   "cell_type": "markdown",
   "metadata": {},
   "source": [
    "Checking for missing values we find - "
   ]
  },
  {
   "cell_type": "code",
   "execution_count": 25,
   "metadata": {},
   "outputs": [
    {
     "name": "stdout",
     "output_type": "stream",
     "text": [
      "ID                  0\n",
      "Name                0\n",
      "Sex                 0\n",
      "Age              9474\n",
      "Height          60171\n",
      "Weight          62875\n",
      "NOC                 0\n",
      "Games               0\n",
      "Year                0\n",
      "Season              0\n",
      "City                0\n",
      "Sport               0\n",
      "Event               0\n",
      "Medal               0\n",
      "Team                0\n",
      "Country Code     1245\n",
      "GDP             86777\n",
      "Population      64972\n",
      "dtype: int64\n"
     ]
    }
   ],
   "source": [
    "print olympics_complete.isnull().sum()"
   ]
  },
  {
   "cell_type": "markdown",
   "metadata": {},
   "source": [
    "There are a lot of missing values in the data, this is to be attributed to the countries not found in the GDP and population masters and also the fact that Population and GDP are only for 1961 onwards while Olympics data is from 1896."
   ]
  },
  {
   "cell_type": "code",
   "execution_count": 26,
   "metadata": {},
   "outputs": [],
   "source": [
    "# Lets take data from 1961 onwards only and for summer olympics only\n",
    "olympics_complete_subset = olympics_complete.loc[(olympics_complete['Year'] > 1960) & (olympics_complete['Season'] == \"Summer\"), :]\n",
    "\n",
    "# Reset row indices\n",
    "olympics_complete_subset = olympics_complete_subset.reset_index()"
   ]
  },
  {
   "cell_type": "markdown",
   "metadata": {},
   "source": [
    "### Data Visualization"
   ]
  },
  {
   "cell_type": "markdown",
   "metadata": {},
   "source": [
    "#### Who has the most medals across all editions of the olympics?\n",
    "Medal tally is the sum of all medals won.\n",
    "\n",
    "Let's create a column that captures whether or not a medal was won! It would be 1 if Medal column says Gold, Silver or Bronze and 0 otherwise."
   ]
  },
  {
   "cell_type": "code",
   "execution_count": 27,
   "metadata": {},
   "outputs": [],
   "source": [
    "olympics_complete_subset['Medal_Won'] = np.where(olympics_complete_subset.loc[:,'Medal'] == 'DNW', 0, 1)"
   ]
  },
  {
   "cell_type": "markdown",
   "metadata": {},
   "source": [
    "Before we find out the best olympics nations, we need to realise that each row of the data actually represents whether or not an athlete won a medal or not. This means that for team events, just a sum of the 'Medal_Won' column would give us an incorrect picture of the medal tally. \n",
    "\n",
    "We need to correct for this. First, lets analyse which events are team events. So, what events are team events?\n",
    "#### If a team wins more than one gold medal for an event in an edition of the olympics, then that event is a team event."
   ]
  },
  {
   "cell_type": "code",
   "execution_count": 29,
   "metadata": {},
   "outputs": [],
   "source": [
    "# Check whether number of medals won in a year for an event by a team exceeds 1. This indicates a team event.\n",
    "identify_team_events = pd.pivot_table(olympics_complete_subset,\n",
    "                                      index = ['Team', 'Year', 'Event'],\n",
    "                                      columns = 'Medal',\n",
    "                                      values = 'Medal_Won',\n",
    "                                      aggfunc = 'sum',\n",
    "                                     fill_value = 0).drop('DNW', axis = 1).reset_index()\n",
    "\n",
    "identify_team_events = identify_team_events.loc[identify_team_events['Gold'] > 1, :]\n",
    "\n",
    "team_sports = identify_team_events['Event'].unique()"
   ]
  },
  {
   "cell_type": "markdown",
   "metadata": {},
   "source": [
    "The list below gives names of each event where in a single edition multiple golds were given. Going through the list, however, we found that some events have crept in which are not usually team events. Some examples include - <br>\n",
    "    1. Gymnastics Women's Balance Beam\n",
    "    2. Gymnastics Men's Horizontal Bar\n",
    "    3. Swimming Women's 100 metres Freestyle\n",
    "    4. Swimming Men's 50 metres Freestyle\n",
    "\n",
    "Upon analysis, I found that these are actually single events but because two athletes had the same score/time, both were awarded the gold medal. We need to remove these events from the list of team sports"
   ]
  },
  {
   "cell_type": "code",
   "execution_count": 30,
   "metadata": {},
   "outputs": [],
   "source": [
    "remove_sports = [\"Gymnastics Women's Balance Beam\", \"Gymnastics Men's Horizontal Bar\", \n",
    "                 \"Swimming Women's 100 metres Freestyle\", \"Swimming Men's 50 metres Freestyle\"]\n",
    "\n",
    "team_sports = list(set(team_sports) - set(remove_sports))"
   ]
  },
  {
   "cell_type": "markdown",
   "metadata": {},
   "source": [
    "The next thing we need to do is add a column in the dataset that correctly identifies whether the event in the given record is a team event."
   ]
  },
  {
   "cell_type": "code",
   "execution_count": 31,
   "metadata": {},
   "outputs": [],
   "source": [
    "team_event_mask = olympics_complete_subset['Event'].map(lambda x: x in team_sports)\n",
    "single_event_mask = [not i for i in team_event_mask]\n",
    "\n",
    "medal_mask = olympics_complete_subset['Medal_Won'] == 1\n",
    "\n",
    "olympics_complete_subset['Team_Event'] = np.where(team_event_mask & medal_mask, 1, 0)\n",
    "olympics_complete_subset['Single_Event'] = np.where(single_event_mask & medal_mask, 1, 0)\n",
    "olympics_complete_subset['Event_Category'] = olympics_complete_subset['Single_Event'] + \\\n",
    "olympics_complete_subset['Team_Event']"
   ]
  },
  {
   "cell_type": "markdown",
   "metadata": {},
   "source": [
    "Now, its time to calculate medal tally agnostic of the team size - one gold means one gold for an event. To do this we divide the number of medals by the count of winning team members. How do we get the team members? Sum of event_category column should do that for us!"
   ]
  },
  {
   "cell_type": "code",
   "execution_count": 32,
   "metadata": {},
   "outputs": [],
   "source": [
    "medal_tally_agnostic = olympics_complete_subset.\\\n",
    "groupby(['Year', 'Team', 'Event', 'Medal'])[['Medal_Won', 'Event_Category']].\\\n",
    "agg('sum').reset_index()\n",
    "\n",
    "medal_tally_agnostic['Medal_Won_Corrected'] = medal_tally_agnostic['Medal_Won']/medal_tally_agnostic['Event_Category']"
   ]
  },
  {
   "cell_type": "markdown",
   "metadata": {},
   "source": [
    "Who are the greatest olympics playing nations of all time? With the corrected data, lets make a pivot table to find out!"
   ]
  },
  {
   "cell_type": "code",
   "execution_count": 33,
   "metadata": {},
   "outputs": [
    {
     "name": "stdout",
     "output_type": "stream",
     "text": [
      "Team\n",
      "USA        1387.0\n",
      "Russia     1298.0\n",
      "Germany    1042.0\n",
      "China       545.0\n",
      "Name: All, dtype: float64\n"
     ]
    }
   ],
   "source": [
    "# Medal Tally.\n",
    "medal_tally = medal_tally_agnostic.groupby(['Year','Team'])['Medal_Won_Corrected'].agg('sum').reset_index()\n",
    "\n",
    "medal_tally_pivot = pd.pivot_table(medal_tally,\n",
    "                     index = 'Team',\n",
    "                     columns = 'Year',\n",
    "                     values = 'Medal_Won_Corrected',\n",
    "                     aggfunc = 'sum',\n",
    "                     margins = True).sort_values('All', ascending = False)[1:5]\n",
    "\n",
    "# print total medals won in the given period\n",
    "print medal_tally_pivot.loc[:,'All']"
   ]
  },
  {
   "cell_type": "markdown",
   "metadata": {},
   "source": [
    "**USA, Russia, Germany** and **China** are the best countries of all time when it comes to medal tallies from 1964 to 2016. What do the yearwise medal tallies look like?"
   ]
  },
  {
   "cell_type": "code",
   "execution_count": 34,
   "metadata": {},
   "outputs": [
    {
     "data": {
      "text/plain": [
       "Text(0.5,1,'Olympic Performance Comparison')"
      ]
     },
     "execution_count": 34,
     "metadata": {},
     "output_type": "execute_result"
    },
    {
     "data": {
      "image/png": "[encoded data removed]",
      "text/plain": [
       "<Figure size 720x576 with 1 Axes>"
      ]
     },
     "metadata": {},
     "output_type": "display_data"
    }
   ],
   "source": [
    "# List of top countries\n",
    "top_countries = ['USA', 'Russia', 'Germany', 'China']\n",
    "\n",
    "year_team_medals = pd.pivot_table(medal_tally,\n",
    "                                  index = 'Year',\n",
    "                                  columns = 'Team',\n",
    "                                  values = 'Medal_Won_Corrected',\n",
    "                                  aggfunc = 'sum')[top_countries]\n",
    "\n",
    "# plotting the medal tallies\n",
    "year_team_medals.plot(linestyle = '-', marker = 'o', alpha = 0.9, figsize = (10,8), linewidth = 2)\n",
    "xlabel('Olympic Year')\n",
    "ylabel('Number of Medals')\n",
    "title('Olympic Performance Comparison')"
   ]
  },
  {
   "cell_type": "markdown",
   "metadata": {},
   "source": [
    "**Interesting Insight 1**: The blank value at 1980 for USA and China is not a data error! In 1980, the United States led a boycott of the Summer Olympic Games in Moscow to protest the late 1979 Soviet invasion of Afghanistan. In total, 65 nations refused to participate in the games, whereas 80 countries sent athletes to compete, India being one of those.\n",
    "\n",
    "**Interesting Insight 2**:The missing point at 1984 for Russia is no error either! The boycott of the 1984 Summer Olympics in Los Angeles followed four years after the U.S.-led boycott of the 1980 Summer Olympics in Moscow. The boycott involved 14 Eastern Bloc countries and allies, led by the Soviet Union, which initiated the boycott on May 8, 1984.\n",
    "\n",
    "**Interesting Insight 3** - China did not win in the olympics till 1984 and it has shown excellent performance since then."
   ]
  },
  {
   "cell_type": "markdown",
   "metadata": {},
   "source": [
    "#### Lets plot a breakup of medal tally by the medal type - Gold, Silver, Bronze"
   ]
  },
  {
   "cell_type": "code",
   "execution_count": 35,
   "metadata": {},
   "outputs": [
    {
     "data": {
      "text/plain": [
       "Text(0,0.5,'Country')"
      ]
     },
     "execution_count": 35,
     "metadata": {},
     "output_type": "execute_result"
    },
    {
     "data": {
      "image/png": "[encoded data removed]",
      "text/plain": [
       "<Figure size 576x432 with 1 Axes>"
      ]
     },
     "metadata": {},
     "output_type": "display_data"
    }
   ],
   "source": [
    "# List of top countries\n",
    "top_countries = ['USA', 'Russia', 'Germany', 'China']\n",
    "\n",
    "# row mask where countries match\n",
    "row_mask_2 = medal_tally_agnostic['Team'].map(lambda x: x in top_countries)\n",
    "\n",
    "# Pivot table to calculate sum of gold, silver and bronze medals for each country\n",
    "medal_tally_specific = pd.pivot_table(medal_tally_agnostic[row_mask_2],\n",
    "                                     index = ['Team'],\n",
    "                                     columns = 'Medal',\n",
    "                                     values = 'Medal_Won_Corrected',\n",
    "                                     aggfunc = 'sum',\n",
    "                                     fill_value = 0).drop('DNW', axis = 1)\n",
    "\n",
    "# Re-order the columns so that they appear in order on the chart.\n",
    "medal_tally_specific = medal_tally_specific.loc[:, ['Gold', 'Silver', 'Bronze']]\n",
    "\n",
    "medal_tally_specific.plot(kind = 'bar', stacked = True, figsize = (8,6), rot = 0)\n",
    "xlabel('Number of Medals')\n",
    "ylabel('Country')"
   ]
  },
  {
   "cell_type": "markdown",
   "metadata": {},
   "source": [
    "Surprisingly, countries are also in order of gold medal tallies!"
   ]
  },
  {
   "cell_type": "markdown",
   "metadata": {},
   "source": [
    "### What sports are these countries best at? \n",
    "\n",
    "So, what we want to find here are the events for which a country has the most proportion of gold medals from its own gold medal tally across the years."
   ]
  },
  {
   "cell_type": "code",
   "execution_count": 37,
   "metadata": {},
   "outputs": [
    {
     "name": "stdout",
     "output_type": "stream",
     "text": [
      "         Team                                          Event  Gold_Medal_Count\n",
      "0       China                     Diving Women's Springboard                 8\n",
      "1       China                   Table Tennis Women's Singles                 8\n",
      "2       China                        Diving Women's Platform                 7\n",
      "3       China                Weightlifting Men's Lightweight                 6\n",
      "4       China                      Badminton Women's Doubles                 5\n",
      "343   Germany             Equestrianism Mixed Dressage, Team                11\n",
      "344   Germany     Canoeing Women's Kayak Doubles, 500 metres                 7\n",
      "345   Germany                  Rowing Men's Quadruple Sculls                 7\n",
      "346   Germany                Rowing Women's Quadruple Sculls                 6\n",
      "347   Germany                   Athletics Men's Discus Throw                 5\n",
      "695    Russia         Wrestling Men's Heavyweight, Freestyle                 9\n",
      "696    Russia                      Fencing Men's Sabre, Team                 7\n",
      "697    Russia             Gymnastics Women's Team All-Around                 7\n",
      "698    Russia         Rhythmic Gymnastics Women's Individual                 7\n",
      "699    Russia   Wrestling Men's Light-Heavyweight, Freestyle                 7\n",
      "1049      USA     Swimming Men's 4 x 100 metres Medley Relay                13\n",
      "1050      USA  Swimming Men's 4 x 200 metres Freestyle Relay                11\n",
      "1051      USA           Athletics Men's 4 x 400 metres Relay                10\n",
      "1052      USA                     Athletics Men's 400 metres                10\n",
      "1053      USA                    Basketball Men's Basketball                10\n"
     ]
    }
   ],
   "source": [
    "# To get the sports, teams are best at, we now aggregate the medal_tally_agnostic dataframe as we did earlier.\n",
    "best_team_sports = pd.pivot_table(medal_tally_agnostic[row_mask_2],\n",
    "                                  index = ['Team', 'Event'],\n",
    "                                  columns = 'Medal',\n",
    "                                  values = 'Medal_Won_Corrected',\n",
    "                                  aggfunc = 'sum',\n",
    "                                  fill_value = 0).sort_values(['Team', 'Gold'], ascending = [True, False]).reset_index()\n",
    "\n",
    "best_team_sports.drop(['Bronze', 'Silver', 'DNW'], axis = 1, inplace = True)\n",
    "best_team_sports.columns = ['Team', 'Event', 'Gold_Medal_Count']\n",
    "\n",
    "print best_team_sports.groupby('Team').head(5)"
   ]
  },
  {
   "cell_type": "markdown",
   "metadata": {},
   "source": [
    "We see that Chinese are good at diving - both men and women, Germans excel at equestrian sports, Russians likes to wrestle and Americans likes to swim."
   ]
  },
  {
   "cell_type": "markdown",
   "metadata": {},
   "source": [
    "## Size of Olympic contingent that these countries send to the Olympics!"
   ]
  },
  {
   "cell_type": "markdown",
   "metadata": {},
   "source": [
    "How do the contingents for the various countries look like?"
   ]
  },
  {
   "cell_type": "code",
   "execution_count": 38,
   "metadata": {},
   "outputs": [],
   "source": [
    "# take for each year, the team, name of the athlete and gender of the athlete and drop duplicates. These are values\n",
    "# where the same athlete is taking part in more than one sport.\n",
    "\n",
    "# get rows with top countries\n",
    "row_mask_3 = olympics_complete_subset['Team'].map(lambda x: x in top_countries)\n",
    "\n",
    "year_team_gender = olympics_complete_subset.loc[row_mask_3, ['Year','Team', 'Name', 'Sex']].drop_duplicates()"
   ]
  },
  {
   "cell_type": "code",
   "execution_count": 39,
   "metadata": {},
   "outputs": [],
   "source": [
    "# Create a pivot table to count gender wise representation of each team in each year\n",
    "year_team_gender_count = pd.pivot_table(year_team_gender,\n",
    "                                        index = ['Year', 'Team'],\n",
    "                                        columns = 'Sex',\n",
    "                                        aggfunc = 'count').reset_index()\n",
    "\n",
    "# rename columns as per column names in the 0th level\n",
    "year_team_gender_count.columns = year_team_gender_count.columns.get_level_values(0)\n",
    "\n",
    "# rename the columns appropriately\n",
    "year_team_gender_count.columns = ['Year', 'Team', 'Female_Athletes', 'Male_Athletes']\n",
    "\n",
    "# get total athletes per team-year\n",
    "year_team_gender_count['Total_Athletes'] = year_team_gender_count['Female_Athletes'] + \\\n",
    "year_team_gender_count['Male_Athletes']"
   ]
  },
  {
   "cell_type": "code",
   "execution_count": 40,
   "metadata": {},
   "outputs": [
    {
     "name": "stderr",
     "output_type": "stream",
     "text": [
      "C:\\Users\\sagar\\Anaconda2\\lib\\site-packages\\pandas\\core\\frame.py:3787: SettingWithCopyWarning: \n",
      "A value is trying to be set on a copy of a slice from a DataFrame\n",
      "\n",
      "See the caveats in the documentation: http://pandas.pydata.org/pandas-docs/stable/indexing.html#indexing-view-versus-copy\n",
      "  downcast=downcast, **kwargs)\n"
     ]
    }
   ],
   "source": [
    "# Separate country wise data\n",
    "\n",
    "chi_data = year_team_gender_count[year_team_gender_count['Team'] == \"China\"]\n",
    "chi_data.fillna(0, inplace = True)\n",
    "chi_data.set_index('Year', inplace = True)\n",
    "\n",
    "ger_data = year_team_gender_count[year_team_gender_count['Team'] == \"Germany\"]\n",
    "ger_data.set_index('Year', inplace = True)\n",
    "\n",
    "rus_data = year_team_gender_count[year_team_gender_count['Team'] == \"Russia\"]\n",
    "rus_data.set_index('Year', inplace = True)\n",
    "\n",
    "usa_data = year_team_gender_count[year_team_gender_count['Team'] == \"USA\"]\n",
    "usa_data.set_index('Year', inplace = True)"
   ]
  },
  {
   "cell_type": "markdown",
   "metadata": {},
   "source": [
    "Plotting the contingent size with male and female athletes respectively for each country."
   ]
  },
  {
   "cell_type": "code",
   "execution_count": 41,
   "metadata": {},
   "outputs": [
    {
     "data": {
      "image/png": "[encoded data removed]",
      "text/plain": [
       "<Figure size 1440x864 with 4 Axes>"
      ]
     },
     "metadata": {},
     "output_type": "display_data"
    }
   ],
   "source": [
    "# Plot the values of male, female and total athletes using bar charts and the line charts.\n",
    "fig, ((ax1, ax2), (ax3, ax4)) = subplots(nrows = 2, ncols = 2, figsize = (20, 12), sharey = True)\n",
    "fig.subplots_adjust(hspace = 0.3)\n",
    "\n",
    "# Plot team Australia's contingent size\n",
    "ax1.bar(chi_data.index.values, chi_data['Male_Athletes'], width = -1, align = 'edge', label = 'Male Athletes')\n",
    "ax1.bar(chi_data.index.values, chi_data['Female_Athletes'], width = 1, align = 'edge', label = 'Female Athletes')\n",
    "ax1.plot(chi_data.index.values, chi_data['Total_Athletes'], linestyle = ':', color = 'black', label = 'Total Athletes',\n",
    "        marker = 'o')\n",
    "ax1.set_title('Team China:\\nComposition over the years')\n",
    "ax1.set_ylabel('Number of Athletes')\n",
    "ax1.legend(loc = 'best')\n",
    "\n",
    "# Plot team USA's contingent size\n",
    "ax2.bar(usa_data.index.values, usa_data['Male_Athletes'], width = -1, align = 'edge', label = 'Male Athletes')\n",
    "ax2.bar(usa_data.index.values, usa_data['Female_Athletes'], width = 1, align = 'edge', label = 'Female Athletes')\n",
    "ax2.plot(usa_data.index.values, usa_data['Total_Athletes'], linestyle = ':', color = 'black', label = 'Total Athletes',\n",
    "        marker = 'o')\n",
    "ax2.set_title('Team USA:\\nComposition over the years')\n",
    "ax2.set_ylabel('Number of Athletes')\n",
    "ax2.legend(loc = 'best')\n",
    "\n",
    "# Plot team Germany's contingent size\n",
    "ax3.bar(ger_data.index.values, ger_data['Male_Athletes'], width = -1, align = 'edge', label = 'Male Athletes')\n",
    "ax3.bar(ger_data.index.values, ger_data['Female_Athletes'], width = 1, align = 'edge', label = 'Female Athletes')\n",
    "ax3.plot(ger_data.index.values, ger_data['Total_Athletes'], linestyle = ':', color = 'black', label = 'Total Athletes', \n",
    "         marker = 'o')\n",
    "ax3.set_title('Team Germany:\\nComposition over the years')\n",
    "ax3.set_ylabel('Number of Athletes')\n",
    "ax3.legend(loc = 'best')\n",
    "\n",
    "# Plot team Russia's contingent size\n",
    "ax4.bar(rus_data.index.values, rus_data['Male_Athletes'], width = -1, align = 'edge', label = 'Male Athletes')\n",
    "ax4.bar(rus_data.index.values, rus_data['Female_Athletes'], width = 1, align = 'edge', label = 'Female Athletes')\n",
    "ax4.plot(rus_data.index.values, rus_data['Total_Athletes'], linestyle = ':', color = 'black', label = 'Total Athletes',\n",
    "        marker = 'o')\n",
    "ax4.set_title('Team Russia:\\nComposition over the years')\n",
    "ax4.set_ylabel('Number of Athletes')\n",
    "ax4.legend(loc = 'best')\n",
    "\n",
    "show()"
   ]
  },
  {
   "cell_type": "markdown",
   "metadata": {},
   "source": [
    "### Does the size of the contingent relate with the number of medals?"
   ]
  },
  {
   "cell_type": "code",
   "execution_count": 43,
   "metadata": {},
   "outputs": [
    {
     "data": {
      "image/png": "[encoded data removed]",
      "text/plain": [
       "<Figure size 1440x864 with 4 Axes>"
      ]
     },
     "metadata": {},
     "output_type": "display_data"
    }
   ],
   "source": [
    "# Get year wise team wise athletes.\n",
    "year_team_athelete = olympics_complete_subset.loc[row_mask_3, ['Year','Team', 'Name']].drop_duplicates()\n",
    "\n",
    "# sum these up to get total contingent size.\n",
    "contingent_size = pd.pivot_table(year_team_athelete,\n",
    "                                 index = 'Year',\n",
    "                                 columns = 'Team',\n",
    "                                 values = 'Name',\n",
    "                                 aggfunc = 'count')\n",
    "\n",
    "fig, ((ax1, ax2), (ax3, ax4)) = subplots(nrows = 2,\n",
    "                                         ncols = 2,\n",
    "                                        figsize = (20,12))\n",
    "\n",
    "fig.subplots_adjust(hspace = 0.3)\n",
    "\n",
    "# Plot australia's medal tally and contingent size\n",
    "contingent_size['China'].plot(ax = ax1, linestyle = '-', marker = 'o', linewidth = 2, color = 'red', \n",
    "                                  label = 'Contingent Size')\n",
    "year_team_medals['China'].plot(ax = ax1, linestyle = '-', marker = 'o', linewidth = 2, color = 'black',\n",
    "                                  label = 'Medal Tally')\n",
    "ax1.plot(2008, contingent_size.loc[2008, 'China'], marker = '^', color = 'red', ms = 14)\n",
    "ax1.plot(2008, year_team_medals.loc[2008, 'China'], marker = '^', color = 'black', ms = 14)\n",
    "ax1.set_xlabel('Olympic Year')\n",
    "ax1.set_ylabel('Number of Athletes/Medal Tally')\n",
    "ax1.set_title('Team China\\nContingent Size vs Medal Tally')\n",
    "ax1.legend(loc = 'best')\n",
    "\n",
    "# Plot USA's medal tally and contingent size\n",
    "contingent_size['USA'].plot(ax = ax2, linestyle = '-', marker = 'o', linewidth = 2, color = 'blue',\n",
    "                           label = 'Contingent Size')\n",
    "year_team_medals['USA'].plot(ax = ax2, linestyle = '-', marker = 'o', linewidth = 2, color = 'black',\n",
    "                            label = 'Medal Tally')\n",
    "ax2.plot(1984, contingent_size.loc[1984, 'USA'], marker = '^', color = 'blue', ms = 14)\n",
    "ax2.plot(1984, year_team_medals.loc[1984, 'USA'], marker = '^', color = 'black', ms = 14)\n",
    "ax2.set_xlabel('Olympic Year')\n",
    "ax2.set_ylabel('Number of Athletes/Medal Tally')\n",
    "ax2.set_title('Team USA\\nContingent Size vs Medal Tally')\n",
    "ax2.legend(loc = 'best')\n",
    "\n",
    "# Plot Germany's medal tally and contingent size\n",
    "contingent_size['Germany'].plot(ax = ax3, linestyle = '-', marker = 'o', linewidth = 2, color = 'green',\n",
    "                               label = 'Contingent Size')\n",
    "year_team_medals['Germany'].plot(ax = ax3, linestyle = '-', marker = 'o', linewidth = 2, color = 'black',\n",
    "                                label = 'Medal Tally')\n",
    "ax3.plot(1972, year_team_medals.loc[1972, 'Germany'], marker = '^', color = 'black', ms = 14)\n",
    "ax3.plot(1972, contingent_size.loc[1972, 'Germany'], marker = '^', color = 'green', ms = 14)\n",
    "ax3.set_xlabel('Olympic Year')\n",
    "ax3.set_ylabel('Number of Athletes/Medal Tally')\n",
    "ax3.set_title('Team Germany\\nContingent Size vs Medal Tally')\n",
    "ax3.legend(loc = 'best')\n",
    "\n",
    "# Plot Russia's medal tally and contingent size\n",
    "contingent_size['Russia'].plot(ax = ax4, linestyle = '-', marker = 'o', linewidth = 2, color = 'orange',\n",
    "                              label = 'Contingent Size')\n",
    "year_team_medals['Russia'].plot(ax = ax4, linestyle = '-', marker = 'o', linewidth = 2, color = 'black',\n",
    "                               label = 'Medal Tally')\n",
    "ax4.plot(1980, contingent_size.loc[1980, 'Russia'], marker = '^', color = 'orange', ms = 14)\n",
    "ax4.plot(1980, year_team_medals.loc[1980, 'Russia'], marker = '^', color = 'black', ms = 14)\n",
    "ax4.set_xlabel('Olympic Year')\n",
    "ax4.set_ylabel('Number of Athletes/Medal Tally')\n",
    "ax4.set_title('Team Russia\\nContingent Size vs Medal Tally')\n",
    "ax4.legend(loc = 'best')\n",
    "\n",
    "show()"
   ]
  },
  {
   "cell_type": "code",
   "execution_count": 44,
   "metadata": {},
   "outputs": [
    {
     "data": {
      "text/html": [
       "<div>\n",
       "<style scoped>\n",
       "    .dataframe tbody tr th:only-of-type {\n",
       "        vertical-align: middle;\n",
       "    }\n",
       "\n",
       "    .dataframe tbody tr th {\n",
       "        vertical-align: top;\n",
       "    }\n",
       "\n",
       "    .dataframe thead th {\n",
       "        text-align: right;\n",
       "    }\n",
       "</style>\n",
       "<table border=\"1\" class=\"dataframe\">\n",
       "  <thead>\n",
       "    <tr style=\"text-align: right;\">\n",
       "      <th></th>\n",
       "      <th>Contingent</th>\n",
       "      <th>Medal_Count</th>\n",
       "    </tr>\n",
       "  </thead>\n",
       "  <tbody>\n",
       "    <tr>\n",
       "      <th>Contingent</th>\n",
       "      <td>1.000000</td>\n",
       "      <td>0.703625</td>\n",
       "    </tr>\n",
       "    <tr>\n",
       "      <th>Medal_Count</th>\n",
       "      <td>0.703625</td>\n",
       "      <td>1.000000</td>\n",
       "    </tr>\n",
       "  </tbody>\n",
       "</table>\n",
       "</div>"
      ],
      "text/plain": [
       "             Contingent  Medal_Count\n",
       "Contingent     1.000000     0.703625\n",
       "Medal_Count    0.703625     1.000000"
      ]
     },
     "execution_count": 44,
     "metadata": {},
     "output_type": "execute_result"
    }
   ],
   "source": [
    "# Lets merge contingent size and medals won!\n",
    "year_team_medals_unstack = year_team_medals.unstack().reset_index()\n",
    "year_team_medals_unstack.columns = ['Team','Year', 'Medal_Count']\n",
    "\n",
    "contingent_size_unstack = contingent_size.unstack().reset_index()\n",
    "\n",
    "contingent_size_unstack.columns = ['Team','Year', 'Contingent']\n",
    "\n",
    "contingent_medals = contingent_size_unstack.merge(year_team_medals_unstack,\n",
    "                                                 left_on = ['Team', 'Year'],\n",
    "                                                 right_on = ['Team', 'Year'])\n",
    "\n",
    "contingent_medals[['Contingent', 'Medal_Count']].corr()"
   ]
  },
  {
   "cell_type": "markdown",
   "metadata": {},
   "source": [
    "It is interesting to see that for each of these countries, a point of peak in the contingent size translates directly to a peak in the medal tally! These have been marked as large triangles on the plots. The same is confirmed by the correlation matrix above which shows a large positive correlation (0.703) between contingent size and medal tally.\n",
    "\n",
    "**Interestingly, as we will see in the analysis below, the edition with peak contingents of all these nations is also the edition when the olympics was held in their home country**"
   ]
  },
  {
   "cell_type": "markdown",
   "metadata": {},
   "source": [
    "## Are there some commonalities between the countries?\n",
    "Are there common things they are all good at? The output shows the number of times a sport appears in the top 5 best sports of each country. Which sport has a number for multiple countries becomes a commonality"
   ]
  },
  {
   "cell_type": "code",
   "execution_count": 47,
   "metadata": {},
   "outputs": [
    {
     "name": "stdout",
     "output_type": "stream",
     "text": [
      "Team                 China  Germany  Russia  USA  All\n",
      "Sport                                                \n",
      "Athletics                0        1       0    2    3\n",
      "Diving                   2        0       0    0    2\n",
      "Rowing                   0        2       0    0    2\n",
      "Swimming                 0        0       0    2    2\n",
      "Wrestling                0        0       2    0    2\n",
      "Badminton                1        0       0    0    1\n",
      "Basketball               0        0       0    1    1\n",
      "Canoeing                 0        1       0    0    1\n",
      "Equestrianism            0        1       0    0    1\n",
      "Fencing                  0        0       1    0    1\n",
      "Gymnastics               0        0       1    0    1\n",
      "Rhythmic Gymnastics      0        0       1    0    1\n",
      "Table Tennis             1        0       0    0    1\n",
      "Weightlifting            1        0       0    0    1\n"
     ]
    }
   ],
   "source": [
    "team_commonalities = best_team_sports.merge(olympics_complete_subset.loc[:,['Sport', 'Event']].drop_duplicates(),\n",
    "                                           left_on = 'Event',\n",
    "                                           right_on = 'Event')\n",
    "\n",
    "team_commonalities = team_commonalities.sort_values(['Team', 'Gold_Medal_Count'], ascending = [True, False])\n",
    "team_commonalities = team_commonalities.groupby('Team').head(5).reset_index()\n",
    "\n",
    "print pd.pivot_table(team_commonalities,\n",
    "              index = 'Sport',\n",
    "              columns = 'Team',\n",
    "              values = 'Event',\n",
    "              aggfunc = 'count',\n",
    "              fill_value = 0,\n",
    "              margins = True).sort_values('All', ascending = False)[1:]"
   ]
  },
  {
   "cell_type": "markdown",
   "metadata": {},
   "source": [
    "#### Interesting Insight 3:\n",
    "There is very little in common between these countries. It is perhaps why these are all at the top. Each competes and wins in its own area of expertise."
   ]
  },
  {
   "cell_type": "markdown",
   "metadata": {},
   "source": [
    "## Do teams enjoy a home advantage?\n",
    "A home advantage is a phenomenon where a team does better when the olympics are being held in its own country than it fares in other countries. To keep the comparison fair, we would compare the performance of these teams in the year when the olympics was held at their home vs one edition earlier and one edition later."
   ]
  },
  {
   "cell_type": "markdown",
   "metadata": {},
   "source": [
    "#### Where was the olympics held in each of the years under consideration?"
   ]
  },
  {
   "cell_type": "code",
   "execution_count": 48,
   "metadata": {},
   "outputs": [
    {
     "name": "stdout",
     "output_type": "stream",
     "text": [
      "    Year            City\n",
      "74  1964           Tokyo\n",
      "11  1968     Mexico City\n",
      "12  1972          Munich\n",
      "37  1976        Montreal\n",
      "70  1980          Moskva\n",
      "10  1984     Los Angeles\n",
      "13  1988           Seoul\n",
      "0   1992       Barcelona\n",
      "3   1996         Atlanta\n",
      "2   2000          Sydney\n",
      "9   2004          Athina\n",
      "6   2008         Beijing\n",
      "1   2012          London\n",
      "7   2016  Rio de Janeiro\n"
     ]
    }
   ],
   "source": [
    "print olympics_complete_subset[['Year', 'City']].drop_duplicates().sort_values('Year')"
   ]
  },
  {
   "cell_type": "markdown",
   "metadata": {},
   "source": [
    "We see from the data that some cities have been captured incorrectly- <br>\n",
    "1. Moskva should be 'Moscow'\n",
    "2. Athina should be 'Athens'\n",
    "\n",
    "Let's first correct these cities before we proceed with any analysis"
   ]
  },
  {
   "cell_type": "code",
   "execution_count": 49,
   "metadata": {},
   "outputs": [],
   "source": [
    "# Correct city names in the dataset\n",
    "olympics_complete_subset['City'].replace(['Athina', 'Moskva'], ['Athens', 'Moscow'], inplace = True)"
   ]
  },
  {
   "cell_type": "markdown",
   "metadata": {},
   "source": [
    "Now that the names have been corrected, let's map each of these cities to their countries."
   ]
  },
  {
   "cell_type": "code",
   "execution_count": 50,
   "metadata": {},
   "outputs": [
    {
     "name": "stdout",
     "output_type": "stream",
     "text": [
      "    Year Country_Host\n",
      "74  1964        Japan\n",
      "11  1968       Mexico\n",
      "12  1972      Germany\n",
      "37  1976       Canada\n",
      "70  1980       Russia\n",
      "10  1984          USA\n",
      "13  1988  South Korea\n",
      "0   1992        Spain\n",
      "3   1996          USA\n",
      "2   2000    Australia\n",
      "9   2004       Greece\n",
      "6   2008        China\n",
      "1   2012           UK\n",
      "7   2016       Brazil\n"
     ]
    }
   ],
   "source": [
    "# city to country mapping dictionary\n",
    "city_to_country = {'Tokyo': 'Japan',\n",
    "                  'Mexico City': 'Mexico',\n",
    "                  'Munich': 'Germany',\n",
    "                  'Montreal': 'Canada',\n",
    "                  'Moscow': 'Russia',\n",
    "                  'Los Angeles': 'USA',\n",
    "                  'Seoul': 'South Korea',\n",
    "                  'Barcelona': 'Spain',\n",
    "                  'Atlanta': 'USA',\n",
    "                  'Sydney': 'Australia',\n",
    "                  'Athens': 'Greece',\n",
    "                  'Beijing': 'China',\n",
    "                  'London': 'UK',\n",
    "                  'Rio de Janeiro': 'Brazil'}\n",
    "\n",
    "# Map cities to countries\n",
    "olympics_complete_subset['Country_Host'] = olympics_complete_subset['City'].map(city_to_country)\n",
    "\n",
    "#print the \n",
    "print olympics_complete_subset.loc[:, ['Year', 'Country_Host']].drop_duplicates().sort_values('Year')"
   ]
  },
  {
   "cell_type": "markdown",
   "metadata": {},
   "source": [
    "Phew! So somehow it has so happened that each of our top countries has atleast one instance of hosting in the considered time period! Fortuitous! :) \n",
    "\n",
    "One problem though, is that Russia hosted in a year when USA did _NOT_ participate. Since Russia and USA were the top contenders for medals in the period, it should be that Russia won a lot more than they would have in case USA participated. We would ideally need to control for this!\n",
    "\n",
    "The approach for home advantage calculation would be to list host country against each year, playing nation and their total medal tally. Then we would compare performance one edition before and one edition after the olympics was held at that playing country's home."
   ]
  },
  {
   "cell_type": "code",
   "execution_count": 51,
   "metadata": {},
   "outputs": [
    {
     "data": {
      "text/html": [
       "<div>\n",
       "<style scoped>\n",
       "    .dataframe tbody tr th:only-of-type {\n",
       "        vertical-align: middle;\n",
       "    }\n",
       "\n",
       "    .dataframe tbody tr th {\n",
       "        vertical-align: top;\n",
       "    }\n",
       "\n",
       "    .dataframe thead th {\n",
       "        text-align: right;\n",
       "    }\n",
       "</style>\n",
       "<table border=\"1\" class=\"dataframe\">\n",
       "  <thead>\n",
       "    <tr style=\"text-align: right;\">\n",
       "      <th></th>\n",
       "      <th>Year</th>\n",
       "      <th>Country_Host</th>\n",
       "      <th>Team</th>\n",
       "      <th>Medal_Won_Prev_Year</th>\n",
       "      <th>Medal_Won_Host_Year</th>\n",
       "      <th>Medal_Won_Next_Year</th>\n",
       "    </tr>\n",
       "  </thead>\n",
       "  <tbody>\n",
       "    <tr>\n",
       "      <th>0</th>\n",
       "      <td>1964</td>\n",
       "      <td>Japan</td>\n",
       "      <td>Japan</td>\n",
       "      <td>NaN</td>\n",
       "      <td>29.0</td>\n",
       "      <td>25.0</td>\n",
       "    </tr>\n",
       "    <tr>\n",
       "      <th>1</th>\n",
       "      <td>1968</td>\n",
       "      <td>Mexico</td>\n",
       "      <td>Mexico</td>\n",
       "      <td>1.0</td>\n",
       "      <td>9.0</td>\n",
       "      <td>1.0</td>\n",
       "    </tr>\n",
       "    <tr>\n",
       "      <th>2</th>\n",
       "      <td>1972</td>\n",
       "      <td>Germany</td>\n",
       "      <td>Germany</td>\n",
       "      <td>51.0</td>\n",
       "      <td>106.0</td>\n",
       "      <td>129.0</td>\n",
       "    </tr>\n",
       "    <tr>\n",
       "      <th>3</th>\n",
       "      <td>1976</td>\n",
       "      <td>Canada</td>\n",
       "      <td>Canada</td>\n",
       "      <td>5.0</td>\n",
       "      <td>11.0</td>\n",
       "      <td>NaN</td>\n",
       "    </tr>\n",
       "    <tr>\n",
       "      <th>4</th>\n",
       "      <td>1980</td>\n",
       "      <td>Russia</td>\n",
       "      <td>Russia</td>\n",
       "      <td>125.0</td>\n",
       "      <td>195.0</td>\n",
       "      <td>NaN</td>\n",
       "    </tr>\n",
       "    <tr>\n",
       "      <th>5</th>\n",
       "      <td>1984</td>\n",
       "      <td>USA</td>\n",
       "      <td>USA</td>\n",
       "      <td>NaN</td>\n",
       "      <td>173.0</td>\n",
       "      <td>94.0</td>\n",
       "    </tr>\n",
       "    <tr>\n",
       "      <th>6</th>\n",
       "      <td>1988</td>\n",
       "      <td>South Korea</td>\n",
       "      <td>South Korea</td>\n",
       "      <td>19.0</td>\n",
       "      <td>33.0</td>\n",
       "      <td>28.0</td>\n",
       "    </tr>\n",
       "    <tr>\n",
       "      <th>7</th>\n",
       "      <td>1992</td>\n",
       "      <td>Spain</td>\n",
       "      <td>Spain</td>\n",
       "      <td>4.0</td>\n",
       "      <td>22.0</td>\n",
       "      <td>17.0</td>\n",
       "    </tr>\n",
       "    <tr>\n",
       "      <th>8</th>\n",
       "      <td>1996</td>\n",
       "      <td>USA</td>\n",
       "      <td>USA</td>\n",
       "      <td>108.0</td>\n",
       "      <td>101.0</td>\n",
       "      <td>91.0</td>\n",
       "    </tr>\n",
       "    <tr>\n",
       "      <th>9</th>\n",
       "      <td>2000</td>\n",
       "      <td>Australia</td>\n",
       "      <td>Australia</td>\n",
       "      <td>41.0</td>\n",
       "      <td>58.0</td>\n",
       "      <td>50.0</td>\n",
       "    </tr>\n",
       "    <tr>\n",
       "      <th>10</th>\n",
       "      <td>2004</td>\n",
       "      <td>Greece</td>\n",
       "      <td>Greece</td>\n",
       "      <td>13.0</td>\n",
       "      <td>16.0</td>\n",
       "      <td>4.0</td>\n",
       "    </tr>\n",
       "    <tr>\n",
       "      <th>11</th>\n",
       "      <td>2008</td>\n",
       "      <td>China</td>\n",
       "      <td>China</td>\n",
       "      <td>64.0</td>\n",
       "      <td>100.0</td>\n",
       "      <td>89.0</td>\n",
       "    </tr>\n",
       "    <tr>\n",
       "      <th>12</th>\n",
       "      <td>2012</td>\n",
       "      <td>UK</td>\n",
       "      <td>UK</td>\n",
       "      <td>48.0</td>\n",
       "      <td>65.0</td>\n",
       "      <td>67.0</td>\n",
       "    </tr>\n",
       "    <tr>\n",
       "      <th>13</th>\n",
       "      <td>2016</td>\n",
       "      <td>Brazil</td>\n",
       "      <td>Brazil</td>\n",
       "      <td>17.0</td>\n",
       "      <td>19.0</td>\n",
       "      <td>NaN</td>\n",
       "    </tr>\n",
       "  </tbody>\n",
       "</table>\n",
       "</div>"
      ],
      "text/plain": [
       "    Year Country_Host         Team  Medal_Won_Prev_Year  Medal_Won_Host_Year  \\\n",
       "0   1964        Japan        Japan                  NaN                 29.0   \n",
       "1   1968       Mexico       Mexico                  1.0                  9.0   \n",
       "2   1972      Germany      Germany                 51.0                106.0   \n",
       "3   1976       Canada       Canada                  5.0                 11.0   \n",
       "4   1980       Russia       Russia                125.0                195.0   \n",
       "5   1984          USA          USA                  NaN                173.0   \n",
       "6   1988  South Korea  South Korea                 19.0                 33.0   \n",
       "7   1992        Spain        Spain                  4.0                 22.0   \n",
       "8   1996          USA          USA                108.0                101.0   \n",
       "9   2000    Australia    Australia                 41.0                 58.0   \n",
       "10  2004       Greece       Greece                 13.0                 16.0   \n",
       "11  2008        China        China                 64.0                100.0   \n",
       "12  2012           UK           UK                 48.0                 65.0   \n",
       "13  2016       Brazil       Brazil                 17.0                 19.0   \n",
       "\n",
       "    Medal_Won_Next_Year  \n",
       "0                  25.0  \n",
       "1                   1.0  \n",
       "2                 129.0  \n",
       "3                   NaN  \n",
       "4                   NaN  \n",
       "5                  94.0  \n",
       "6                  28.0  \n",
       "7                  17.0  \n",
       "8                  91.0  \n",
       "9                  50.0  \n",
       "10                  4.0  \n",
       "11                 89.0  \n",
       "12                 67.0  \n",
       "13                  NaN  "
      ]
     },
     "execution_count": 51,
     "metadata": {},
     "output_type": "execute_result"
    }
   ],
   "source": [
    "# Extract year, host nation and team name from the data\n",
    "year_host_team = olympics_complete_subset[['Year', 'Country_Host', 'Team']].drop_duplicates()\n",
    "\n",
    "# check rows where host country is the same as team\n",
    "row_mask_4 = (year_host_team['Country_Host'] == year_host_team['Team'])\n",
    "\n",
    "# add years in the year_host_team to capture one previous and one later year\n",
    "year_host_team['Prev_Year'] = year_host_team['Year'] - 4\n",
    "year_host_team['Next_Year'] = year_host_team['Year'] + 4\n",
    "\n",
    "# Subset only where host nation and team were the same\n",
    "year_host_team = year_host_team[row_mask_4]\n",
    "\n",
    "# Calculate the medals won in each year where a team played at home. merge year_host_team with medal_tally on year and team\n",
    "year_host_team_medal = year_host_team.merge(medal_tally,\n",
    "                                           left_on = ['Year', 'Team'],\n",
    "                                           right_on = ['Year', 'Team'],\n",
    "                                           how = 'left')\n",
    "\n",
    "year_host_team_medal.rename(columns = {'Medal_Won_Corrected' : 'Medal_Won_Host_Year'}, inplace = True)\n",
    "\n",
    "# Calculate medals won by team in previous year\n",
    "year_host_team_medal = year_host_team_medal.merge(medal_tally,\n",
    "                                                 left_on = ['Prev_Year', 'Team'],\n",
    "                                                 right_on = ['Year', 'Team'],\n",
    "                                                 how = 'left')\n",
    "\n",
    "year_host_team_medal.drop('Year_y', axis = 1, inplace = True)\n",
    "year_host_team_medal.rename(columns = {'Medal_Won_Corrected': 'Medal_Won_Prev_Year',\n",
    "                                      'Year_x':'Year'}, inplace = True)\n",
    "\n",
    "# Calculate the medals won by the team the year after they hosted.\n",
    "year_host_team_medal = year_host_team_medal.merge(medal_tally,\n",
    "                                                 left_on = ['Next_Year', 'Team'],\n",
    "                                                 right_on = ['Year', 'Team'],\n",
    "                                                 how = 'left')\n",
    "\n",
    "year_host_team_medal.drop('Year_y', axis = 1, inplace = True)\n",
    "year_host_team_medal.rename(columns = {'Year_x': 'Year',\n",
    "                                      'Medal_Won_Corrected' : 'Medal_Won_Next_Year'}, inplace = True)\n",
    "\n",
    "# General formatting changes\n",
    "year_host_team_medal.drop(['Prev_Year', 'Next_Year'], axis = 1, inplace = True)\n",
    "year_host_team_medal.sort_values('Year', ascending = True, inplace = True)\n",
    "year_host_team_medal.reset_index(inplace = True, drop = True)\n",
    "\n",
    "# column re-ordering\n",
    "year_host_team_medal = year_host_team_medal.loc[:, ['Year', 'Country_Host', 'Team', 'Medal_Won_Prev_Year', 'Medal_Won_Host_Year', 'Medal_Won_Next_Year']]\n",
    "\n",
    "year_host_team_medal"
   ]
  },
  {
   "cell_type": "markdown",
   "metadata": {},
   "source": [
    "Excluding rows with Russia (1980) and USA (1984) because their biggest contender didn't participate in the olympics that time, we see that in **general team do better whilst playing at home!** "
   ]
  },
  {
   "cell_type": "markdown",
   "metadata": {},
   "source": [
    "## Does GDP play a part in medal tallies?"
   ]
  },
  {
   "cell_type": "code",
   "execution_count": 52,
   "metadata": {},
   "outputs": [
    {
     "data": {
      "text/plain": [
       "Text(7.02006e+12,145,'Correlation = 0.622903299762')"
      ]
     },
     "execution_count": 52,
     "metadata": {},
     "output_type": "execute_result"
    },
    {
     "data": {
      "image/png": "[encoded data removed]",
      "text/plain": [
       "<Figure size 432x288 with 1 Axes>"
      ]
     },
     "metadata": {},
     "output_type": "display_data"
    }
   ],
   "source": [
    "import statsmodels.api as sm\n",
    "\n",
    "year_team_gdp = olympics_complete_subset.loc[:, ['Year', 'Team', 'GDP']].drop_duplicates()\n",
    "\n",
    "medal_tally_gdp = medal_tally.merge(year_team_gdp,\n",
    "                                   left_on = ['Year', 'Team'],\n",
    "                                   right_on = ['Year', 'Team'],\n",
    "                                   how = 'left')\n",
    "\n",
    "row_mask_5 = medal_tally_gdp['Medal_Won_Corrected'] > 0\n",
    "row_mask_6 = medal_tally_gdp['Team'].map(lambda x: x in top_countries)\n",
    "\n",
    "correlation = medal_tally_gdp.loc[row_mask_5, ['GDP', 'Medal_Won_Corrected']].corr()['Medal_Won_Corrected'][0]\n",
    "\n",
    "plot(medal_tally_gdp.loc[row_mask_5, 'GDP'], \n",
    "     medal_tally_gdp.loc[row_mask_5, 'Medal_Won_Corrected'] , \n",
    "     linestyle = 'none', \n",
    "     marker = 'o',\n",
    "    alpha = 0.4)\n",
    "xlabel('Country GDP')\n",
    "\n",
    "ylabel('Number of Medals')\n",
    "title('GDP versus medal tally')\n",
    "text(np.nanpercentile(medal_tally_gdp['GDP'], 99.6), \n",
    "     max(medal_tally_gdp['Medal_Won_Corrected']) - 50,\n",
    "     \"Correlation = \" + str(correlation))"
   ]
  },
  {
   "cell_type": "markdown",
   "metadata": {},
   "source": [
    "The plot shows a 0.622 correlation between GDP and medals won! Thats a significant correlation. **So GDP positively impacts the number of medals won by a team.**"
   ]
  },
  {
   "cell_type": "markdown",
   "metadata": {},
   "source": [
    "## Who are the most accomplished athletes in each sport?\n",
    "\n",
    "Lets define accomplished athletes as those with a high medal to participation ratio. This means the average number of medals they win with each participation. Participation would be counted as the number of events that they participated in."
   ]
  },
  {
   "cell_type": "code",
   "execution_count": 76,
   "metadata": {},
   "outputs": [
    {
     "data": {
      "text/html": [
       "<div>\n",
       "<style scoped>\n",
       "    .dataframe tbody tr th:only-of-type {\n",
       "        vertical-align: middle;\n",
       "    }\n",
       "\n",
       "    .dataframe tbody tr th {\n",
       "        vertical-align: top;\n",
       "    }\n",
       "\n",
       "    .dataframe thead th {\n",
       "        text-align: right;\n",
       "    }\n",
       "</style>\n",
       "<table border=\"1\" class=\"dataframe\">\n",
       "  <thead>\n",
       "    <tr style=\"text-align: right;\">\n",
       "      <th></th>\n",
       "      <th>Team</th>\n",
       "      <th>Name</th>\n",
       "      <th>Sport</th>\n",
       "      <th>Medal_Won</th>\n",
       "    </tr>\n",
       "  </thead>\n",
       "  <tbody>\n",
       "    <tr>\n",
       "      <th>66110</th>\n",
       "      <td>South Korea</td>\n",
       "      <td>Kim Su-Nyeong</td>\n",
       "      <td>Archery</td>\n",
       "      <td>6</td>\n",
       "    </tr>\n",
       "    <tr>\n",
       "      <th>65767</th>\n",
       "      <td>South Korea</td>\n",
       "      <td>Ki Bo-Bae</td>\n",
       "      <td>Archery</td>\n",
       "      <td>4</td>\n",
       "    </tr>\n",
       "    <tr>\n",
       "      <th>66718</th>\n",
       "      <td>South Korea</td>\n",
       "      <td>Park Seong-Hyeon</td>\n",
       "      <td>Archery</td>\n",
       "      <td>4</td>\n",
       "    </tr>\n",
       "    <tr>\n",
       "      <th>16642</th>\n",
       "      <td>China</td>\n",
       "      <td>Zhang Juanjuan</td>\n",
       "      <td>Archery</td>\n",
       "      <td>3</td>\n",
       "    </tr>\n",
       "    <tr>\n",
       "      <th>39055</th>\n",
       "      <td>Italy</td>\n",
       "      <td>Marco Galiazzo</td>\n",
       "      <td>Archery</td>\n",
       "      <td>3</td>\n",
       "    </tr>\n",
       "  </tbody>\n",
       "</table>\n",
       "</div>"
      ],
      "text/plain": [
       "              Team              Name    Sport  Medal_Won\n",
       "66110  South Korea     Kim Su-Nyeong  Archery          6\n",
       "65767  South Korea         Ki Bo-Bae  Archery          4\n",
       "66718  South Korea  Park Seong-Hyeon  Archery          4\n",
       "16642        China    Zhang Juanjuan  Archery          3\n",
       "39055        Italy    Marco Galiazzo  Archery          3"
      ]
     },
     "execution_count": 76,
     "metadata": {},
     "output_type": "execute_result"
    }
   ],
   "source": [
    "# lets create a data frame of athletes with the sport they participated in and the number of medals won.\n",
    "ath_sport_medal = olympics_complete_subset.groupby(['Team','Name', 'Sport'])['Medal_Won'].agg('sum').reset_index()\n",
    "ath_sport_medal.sort_values(['Sport', 'Medal_Won'], ascending = [True, False], inplace = True)\n",
    "\n",
    "# keep only athletes who won medals\n",
    "medal_mask = ath_sport_medal['Medal_Won'] > 0\n",
    "ath_sport_medal = ath_sport_medal[medal_mask]\n",
    "\n",
    "ath_sport_medal.head()"
   ]
  },
  {
   "cell_type": "code",
   "execution_count": 92,
   "metadata": {},
   "outputs": [
    {
     "data": {
      "text/html": [
       "<div>\n",
       "<style scoped>\n",
       "    .dataframe tbody tr th:only-of-type {\n",
       "        vertical-align: middle;\n",
       "    }\n",
       "\n",
       "    .dataframe tbody tr th {\n",
       "        vertical-align: top;\n",
       "    }\n",
       "\n",
       "    .dataframe thead th {\n",
       "        text-align: right;\n",
       "    }\n",
       "</style>\n",
       "<table border=\"1\" class=\"dataframe\">\n",
       "  <thead>\n",
       "    <tr style=\"text-align: right;\">\n",
       "      <th></th>\n",
       "      <th>Team</th>\n",
       "      <th>Name</th>\n",
       "      <th>Sport</th>\n",
       "      <th>Medal_Won</th>\n",
       "      <th>Event_Count</th>\n",
       "      <th>Medal_Per_Participation</th>\n",
       "    </tr>\n",
       "  </thead>\n",
       "  <tbody>\n",
       "    <tr>\n",
       "      <th>12179</th>\n",
       "      <td>USA</td>\n",
       "      <td>Natalie Anne Coughlin (-Hall)</td>\n",
       "      <td>Swimming</td>\n",
       "      <td>12</td>\n",
       "      <td>12</td>\n",
       "      <td>1.0</td>\n",
       "    </tr>\n",
       "    <tr>\n",
       "      <th>150</th>\n",
       "      <td>USA</td>\n",
       "      <td>Frederick Carlton \"Carl\" Lewis</td>\n",
       "      <td>Athletics</td>\n",
       "      <td>10</td>\n",
       "      <td>10</td>\n",
       "      <td>1.0</td>\n",
       "    </tr>\n",
       "    <tr>\n",
       "      <th>4925</th>\n",
       "      <td>Germany</td>\n",
       "      <td>Isabelle Regina Werth</td>\n",
       "      <td>Equestrianism</td>\n",
       "      <td>10</td>\n",
       "      <td>10</td>\n",
       "      <td>1.0</td>\n",
       "    </tr>\n",
       "    <tr>\n",
       "      <th>12184</th>\n",
       "      <td>USA</td>\n",
       "      <td>Gary Wayne Hall, Jr.</td>\n",
       "      <td>Swimming</td>\n",
       "      <td>10</td>\n",
       "      <td>10</td>\n",
       "      <td>1.0</td>\n",
       "    </tr>\n",
       "    <tr>\n",
       "      <th>5296</th>\n",
       "      <td>Italy</td>\n",
       "      <td>Maria Valentina Vezzali</td>\n",
       "      <td>Fencing</td>\n",
       "      <td>9</td>\n",
       "      <td>9</td>\n",
       "      <td>1.0</td>\n",
       "    </tr>\n",
       "    <tr>\n",
       "      <th>12191</th>\n",
       "      <td>Germany</td>\n",
       "      <td>Kornelia Ender (-Matthes, -Grummt)</td>\n",
       "      <td>Swimming</td>\n",
       "      <td>8</td>\n",
       "      <td>8</td>\n",
       "      <td>1.0</td>\n",
       "    </tr>\n",
       "    <tr>\n",
       "      <th>12195</th>\n",
       "      <td>USA</td>\n",
       "      <td>Donald Arthur \"Don\" Schollander</td>\n",
       "      <td>Swimming</td>\n",
       "      <td>8</td>\n",
       "      <td>8</td>\n",
       "      <td>1.0</td>\n",
       "    </tr>\n",
       "    <tr>\n",
       "      <th>12197</th>\n",
       "      <td>USA</td>\n",
       "      <td>Nathan Ghar-Jun Adrian</td>\n",
       "      <td>Swimming</td>\n",
       "      <td>8</td>\n",
       "      <td>8</td>\n",
       "      <td>1.0</td>\n",
       "    </tr>\n",
       "    <tr>\n",
       "      <th>4191</th>\n",
       "      <td>UK</td>\n",
       "      <td>Jason Francis Kenny</td>\n",
       "      <td>Cycling</td>\n",
       "      <td>7</td>\n",
       "      <td>7</td>\n",
       "      <td>1.0</td>\n",
       "    </tr>\n",
       "    <tr>\n",
       "      <th>4745</th>\n",
       "      <td>China</td>\n",
       "      <td>Wu Minxia</td>\n",
       "      <td>Diving</td>\n",
       "      <td>7</td>\n",
       "      <td>7</td>\n",
       "      <td>1.0</td>\n",
       "    </tr>\n",
       "  </tbody>\n",
       "</table>\n",
       "</div>"
      ],
      "text/plain": [
       "          Team                                Name          Sport  Medal_Won  \\\n",
       "12179      USA       Natalie Anne Coughlin (-Hall)       Swimming         12   \n",
       "150        USA      Frederick Carlton \"Carl\" Lewis      Athletics         10   \n",
       "4925   Germany               Isabelle Regina Werth  Equestrianism         10   \n",
       "12184      USA                Gary Wayne Hall, Jr.       Swimming         10   \n",
       "5296     Italy             Maria Valentina Vezzali        Fencing          9   \n",
       "12191  Germany  Kornelia Ender (-Matthes, -Grummt)       Swimming          8   \n",
       "12195      USA     Donald Arthur \"Don\" Schollander       Swimming          8   \n",
       "12197      USA              Nathan Ghar-Jun Adrian       Swimming          8   \n",
       "4191        UK                 Jason Francis Kenny        Cycling          7   \n",
       "4745     China                           Wu Minxia         Diving          7   \n",
       "\n",
       "       Event_Count  Medal_Per_Participation  \n",
       "12179           12                      1.0  \n",
       "150             10                      1.0  \n",
       "4925            10                      1.0  \n",
       "12184           10                      1.0  \n",
       "5296             9                      1.0  \n",
       "12191            8                      1.0  \n",
       "12195            8                      1.0  \n",
       "12197            8                      1.0  \n",
       "4191             7                      1.0  \n",
       "4745             7                      1.0  "
      ]
     },
     "execution_count": 92,
     "metadata": {},
     "output_type": "execute_result"
    }
   ],
   "source": [
    "# Now lets calculate the number of participations of each athlete. This will be sport wise.\n",
    "ath_sport_appearance = olympics_complete_subset.groupby(['Team', 'Name', 'Sport'])['NOC'].agg('count').reset_index()\n",
    "\n",
    "ath_sport_appearance.rename(columns = {'NOC': 'Event_Count'}, inplace = True)\n",
    "\n",
    "ath_sport_appearance.head()\n",
    "\n",
    "# lets merge these two.\n",
    "ath_medal_appearance = ath_sport_medal.merge(ath_sport_appearance,\n",
    "                                            left_on = [\"Team\", \"Name\", \"Sport\"],\n",
    "                                            right_on = ['Team', 'Name', 'Sport'],\n",
    "                                            how = \"left\")\n",
    "\n",
    "# Calculate the medal per participation\n",
    "ath_medal_appearance['Medal_Per_Participation'] = ath_medal_appearance['Medal_Won']/ath_medal_appearance['Event_Count']\n",
    "\n",
    "ath_medal_appearance.sort_values(['Medal_Per_Participation', 'Medal_Won'], ascending = [False, False], inplace = True)\n",
    "\n",
    "ath_medal_appearance.head(10)"
   ]
  },
  {
   "cell_type": "markdown",
   "metadata": {},
   "source": [
    "We see a lot of athletes with below 10 medals but a medal every time they participate. Let's filter only those that have more than 10 medals."
   ]
  },
  {
   "cell_type": "code",
   "execution_count": 94,
   "metadata": {},
   "outputs": [
    {
     "data": {
      "text/html": [
       "<div>\n",
       "<style scoped>\n",
       "    .dataframe tbody tr th:only-of-type {\n",
       "        vertical-align: middle;\n",
       "    }\n",
       "\n",
       "    .dataframe tbody tr th {\n",
       "        vertical-align: top;\n",
       "    }\n",
       "\n",
       "    .dataframe thead th {\n",
       "        text-align: right;\n",
       "    }\n",
       "</style>\n",
       "<table border=\"1\" class=\"dataframe\">\n",
       "  <thead>\n",
       "    <tr style=\"text-align: right;\">\n",
       "      <th></th>\n",
       "      <th>Team</th>\n",
       "      <th>Name</th>\n",
       "      <th>Sport</th>\n",
       "      <th>Medal_Won</th>\n",
       "      <th>Event_Count</th>\n",
       "      <th>Medal_Per_Participation</th>\n",
       "    </tr>\n",
       "  </thead>\n",
       "  <tbody>\n",
       "    <tr>\n",
       "      <th>12179</th>\n",
       "      <td>USA</td>\n",
       "      <td>Natalie Anne Coughlin (-Hall)</td>\n",
       "      <td>Swimming</td>\n",
       "      <td>12</td>\n",
       "      <td>12</td>\n",
       "      <td>1.000000</td>\n",
       "    </tr>\n",
       "    <tr>\n",
       "      <th>150</th>\n",
       "      <td>USA</td>\n",
       "      <td>Frederick Carlton \"Carl\" Lewis</td>\n",
       "      <td>Athletics</td>\n",
       "      <td>10</td>\n",
       "      <td>10</td>\n",
       "      <td>1.000000</td>\n",
       "    </tr>\n",
       "    <tr>\n",
       "      <th>4925</th>\n",
       "      <td>Germany</td>\n",
       "      <td>Isabelle Regina Werth</td>\n",
       "      <td>Equestrianism</td>\n",
       "      <td>10</td>\n",
       "      <td>10</td>\n",
       "      <td>1.000000</td>\n",
       "    </tr>\n",
       "    <tr>\n",
       "      <th>12184</th>\n",
       "      <td>USA</td>\n",
       "      <td>Gary Wayne Hall, Jr.</td>\n",
       "      <td>Swimming</td>\n",
       "      <td>10</td>\n",
       "      <td>10</td>\n",
       "      <td>1.000000</td>\n",
       "    </tr>\n",
       "    <tr>\n",
       "      <th>12176</th>\n",
       "      <td>USA</td>\n",
       "      <td>Michael Fred Phelps, II</td>\n",
       "      <td>Swimming</td>\n",
       "      <td>28</td>\n",
       "      <td>30</td>\n",
       "      <td>0.933333</td>\n",
       "    </tr>\n",
       "    <tr>\n",
       "      <th>3614</th>\n",
       "      <td>Germany</td>\n",
       "      <td>Birgit Fischer-Schmidt</td>\n",
       "      <td>Canoeing</td>\n",
       "      <td>12</td>\n",
       "      <td>13</td>\n",
       "      <td>0.923077</td>\n",
       "    </tr>\n",
       "    <tr>\n",
       "      <th>12177</th>\n",
       "      <td>USA</td>\n",
       "      <td>Dara Grace Torres (-Hoffman, -Minas)</td>\n",
       "      <td>Swimming</td>\n",
       "      <td>12</td>\n",
       "      <td>13</td>\n",
       "      <td>0.923077</td>\n",
       "    </tr>\n",
       "    <tr>\n",
       "      <th>12181</th>\n",
       "      <td>USA</td>\n",
       "      <td>Mark Andrew Spitz</td>\n",
       "      <td>Swimming</td>\n",
       "      <td>11</td>\n",
       "      <td>12</td>\n",
       "      <td>0.916667</td>\n",
       "    </tr>\n",
       "    <tr>\n",
       "      <th>12182</th>\n",
       "      <td>USA</td>\n",
       "      <td>Matthew Nicholas \"Matt\" Biondi</td>\n",
       "      <td>Swimming</td>\n",
       "      <td>11</td>\n",
       "      <td>12</td>\n",
       "      <td>0.916667</td>\n",
       "    </tr>\n",
       "    <tr>\n",
       "      <th>12180</th>\n",
       "      <td>USA</td>\n",
       "      <td>Ryan Steven Lochte</td>\n",
       "      <td>Swimming</td>\n",
       "      <td>12</td>\n",
       "      <td>14</td>\n",
       "      <td>0.857143</td>\n",
       "    </tr>\n",
       "    <tr>\n",
       "      <th>6809</th>\n",
       "      <td>Czech Republic</td>\n",
       "      <td>Vra slavsk (-Odloilov)</td>\n",
       "      <td>Gymnastics</td>\n",
       "      <td>10</td>\n",
       "      <td>12</td>\n",
       "      <td>0.833333</td>\n",
       "    </tr>\n",
       "    <tr>\n",
       "      <th>12178</th>\n",
       "      <td>USA</td>\n",
       "      <td>Jennifer Elisabeth \"Jenny\" Thompson (-Cumpelik)</td>\n",
       "      <td>Swimming</td>\n",
       "      <td>12</td>\n",
       "      <td>17</td>\n",
       "      <td>0.705882</td>\n",
       "    </tr>\n",
       "    <tr>\n",
       "      <th>6806</th>\n",
       "      <td>Russia</td>\n",
       "      <td>Nikolay Yefimovich Andrianov</td>\n",
       "      <td>Gymnastics</td>\n",
       "      <td>15</td>\n",
       "      <td>24</td>\n",
       "      <td>0.625000</td>\n",
       "    </tr>\n",
       "    <tr>\n",
       "      <th>6810</th>\n",
       "      <td>Japan</td>\n",
       "      <td>Akinori Nakayama</td>\n",
       "      <td>Gymnastics</td>\n",
       "      <td>10</td>\n",
       "      <td>16</td>\n",
       "      <td>0.625000</td>\n",
       "    </tr>\n",
       "    <tr>\n",
       "      <th>6811</th>\n",
       "      <td>Russia</td>\n",
       "      <td>Aleksandr Nikolayevich Dityatin</td>\n",
       "      <td>Gymnastics</td>\n",
       "      <td>10</td>\n",
       "      <td>16</td>\n",
       "      <td>0.625000</td>\n",
       "    </tr>\n",
       "    <tr>\n",
       "      <th>6808</th>\n",
       "      <td>Russia</td>\n",
       "      <td>Aleksey Yuryevich Nemov</td>\n",
       "      <td>Gymnastics</td>\n",
       "      <td>12</td>\n",
       "      <td>21</td>\n",
       "      <td>0.571429</td>\n",
       "    </tr>\n",
       "    <tr>\n",
       "      <th>6807</th>\n",
       "      <td>Japan</td>\n",
       "      <td>Sawao Kato</td>\n",
       "      <td>Gymnastics</td>\n",
       "      <td>12</td>\n",
       "      <td>24</td>\n",
       "      <td>0.500000</td>\n",
       "    </tr>\n",
       "    <tr>\n",
       "      <th>12183</th>\n",
       "      <td>Germany</td>\n",
       "      <td>Franziska van Almsick</td>\n",
       "      <td>Swimming</td>\n",
       "      <td>10</td>\n",
       "      <td>23</td>\n",
       "      <td>0.434783</td>\n",
       "    </tr>\n",
       "  </tbody>\n",
       "</table>\n",
       "</div>"
      ],
      "text/plain": [
       "                 Team                                             Name  \\\n",
       "12179             USA                    Natalie Anne Coughlin (-Hall)   \n",
       "150               USA                   Frederick Carlton \"Carl\" Lewis   \n",
       "4925          Germany                            Isabelle Regina Werth   \n",
       "12184             USA                             Gary Wayne Hall, Jr.   \n",
       "12176             USA                          Michael Fred Phelps, II   \n",
       "3614          Germany                           Birgit Fischer-Schmidt   \n",
       "12177             USA             Dara Grace Torres (-Hoffman, -Minas)   \n",
       "12181             USA                                Mark Andrew Spitz   \n",
       "12182             USA                   Matthew Nicholas \"Matt\" Biondi   \n",
       "12180             USA                               Ryan Steven Lochte   \n",
       "6809   Czech Republic                           Vra slavsk (-Odloilov)   \n",
       "12178             USA  Jennifer Elisabeth \"Jenny\" Thompson (-Cumpelik)   \n",
       "6806           Russia                     Nikolay Yefimovich Andrianov   \n",
       "6810            Japan                                 Akinori Nakayama   \n",
       "6811           Russia                  Aleksandr Nikolayevich Dityatin   \n",
       "6808           Russia                          Aleksey Yuryevich Nemov   \n",
       "6807            Japan                                       Sawao Kato   \n",
       "12183         Germany                            Franziska van Almsick   \n",
       "\n",
       "               Sport  Medal_Won  Event_Count  Medal_Per_Participation  \n",
       "12179       Swimming         12           12                 1.000000  \n",
       "150        Athletics         10           10                 1.000000  \n",
       "4925   Equestrianism         10           10                 1.000000  \n",
       "12184       Swimming         10           10                 1.000000  \n",
       "12176       Swimming         28           30                 0.933333  \n",
       "3614        Canoeing         12           13                 0.923077  \n",
       "12177       Swimming         12           13                 0.923077  \n",
       "12181       Swimming         11           12                 0.916667  \n",
       "12182       Swimming         11           12                 0.916667  \n",
       "12180       Swimming         12           14                 0.857143  \n",
       "6809      Gymnastics         10           12                 0.833333  \n",
       "12178       Swimming         12           17                 0.705882  \n",
       "6806      Gymnastics         15           24                 0.625000  \n",
       "6810      Gymnastics         10           16                 0.625000  \n",
       "6811      Gymnastics         10           16                 0.625000  \n",
       "6808      Gymnastics         12           21                 0.571429  \n",
       "6807      Gymnastics         12           24                 0.500000  \n",
       "12183       Swimming         10           23                 0.434783  "
      ]
     },
     "execution_count": 94,
     "metadata": {},
     "output_type": "execute_result"
    }
   ],
   "source": [
    "# filter out athletes with less than 10 total medals.\n",
    "ath_medal_appearance = ath_medal_appearance[ath_medal_appearance['Medal_Won'] >= 10]\n",
    "\n",
    "ath_medal_appearance"
   ]
  },
  {
   "cell_type": "markdown",
   "metadata": {},
   "source": [
    "We see that 9 out of 18 athletes in this list are from the United States of America and 8 of those are champion swimmers!"
   ]
  },
  {
   "cell_type": "markdown",
   "metadata": {},
   "source": [
    "## EDA was exciting! \n",
    "\n",
    "#### We learnt that -\n",
    "1. USA, Russia, Germany and China are medal tally leaders in the olympics if we count beginning in 1964. They have all sent varying number of athletes into events over time and have fared better with higher contingent sizes. \n",
    "2. Women, who were not a very large part of the Olympics contingents earlier, now enjoy equal representation in the olympics teams. \n",
    "3. 1980 and 1984 were weird years, with USA not participating in 1980 due to Russia invading Afghanistan and then Russia retaliating in 1984 by not participating and starting the friendship games.\n",
    "4. We found interesting insights by looking at the most successful sporting events for each of the top countries - \n",
    "5. While USA loves swimming, China likes diving, Russia has a penchant for wrestling and mostly all of them like athletics.\n",
    "6. GDP impacts the number of medals won by a nation positively!\n",
    "7. The most accomplished athletes list shows 50% Americans, mostly swimmers!"
   ]
  },
  {
   "cell_type": "markdown",
   "metadata": {},
   "source": [
    "## Can we predict the medal tally of a country?\n",
    "\n",
    "The exploration phase showed that the following factors affect a country's medal tally - \n",
    "1. GDP\n",
    "2. Contingent Size\n",
    "3. Population\n",
    "4. Home field advantage"
   ]
  },
  {
   "cell_type": "code",
   "execution_count": 105,
   "metadata": {},
   "outputs": [],
   "source": [
    "# create the year, team contingent size\n",
    "year_team_gender = olympics_complete_subset.loc[:,['Year','Team', 'Name', 'Sex']].drop_duplicates()\n",
    "\n",
    "year_team_gender_count = pd.pivot_table(year_team_gender,\n",
    "                                        index = ['Year', 'Team'],\n",
    "                                        columns = 'Sex',\n",
    "                                        aggfunc = 'count').reset_index()\n",
    "\n",
    "# rename columns as per column names in the 0th level\n",
    "year_team_gender_count.columns = year_team_gender_count.columns.get_level_values(0)\n",
    "\n",
    "# rename the columns appropriately\n",
    "year_team_gender_count.columns = ['Year', 'Team', 'Female_Athletes', 'Male_Athletes']\n",
    "year_team_gender_count = year_team_gender_count.fillna(0)\n",
    "\n",
    "# get total athletes per team-year\n",
    "year_team_gender_count['Total_Athletes'] = year_team_gender_count['Female_Athletes'] + \\\n",
    "year_team_gender_count['Male_Athletes']\n",
    "\n",
    "year_team_contingent = year_team_gender_count.loc[:, ['Year', 'Team','Total_Athletes']]\n",
    "year_team_contingent.head()"
   ]
  },
  {
   "cell_type": "code",
   "execution_count": 109,
   "metadata": {},
   "outputs": [
    {
     "data": {
      "text/html": [
       "<div>\n",
       "<style scoped>\n",
       "    .dataframe tbody tr th:only-of-type {\n",
       "        vertical-align: middle;\n",
       "    }\n",
       "\n",
       "    .dataframe tbody tr th {\n",
       "        vertical-align: top;\n",
       "    }\n",
       "\n",
       "    .dataframe thead th {\n",
       "        text-align: right;\n",
       "    }\n",
       "</style>\n",
       "<table border=\"1\" class=\"dataframe\">\n",
       "  <thead>\n",
       "    <tr style=\"text-align: right;\">\n",
       "      <th></th>\n",
       "      <th>Year</th>\n",
       "      <th>Team</th>\n",
       "      <th>Medal_Won_Corrected</th>\n",
       "      <th>GDP</th>\n",
       "    </tr>\n",
       "  </thead>\n",
       "  <tbody>\n",
       "    <tr>\n",
       "      <th>0</th>\n",
       "      <td>1964</td>\n",
       "      <td>Afghanistan</td>\n",
       "      <td>0.0</td>\n",
       "      <td>8.000000e+08</td>\n",
       "    </tr>\n",
       "    <tr>\n",
       "      <th>1</th>\n",
       "      <td>1964</td>\n",
       "      <td>Algeria</td>\n",
       "      <td>0.0</td>\n",
       "      <td>2.909352e+09</td>\n",
       "    </tr>\n",
       "    <tr>\n",
       "      <th>2</th>\n",
       "      <td>1964</td>\n",
       "      <td>Argentina</td>\n",
       "      <td>1.0</td>\n",
       "      <td>2.560525e+10</td>\n",
       "    </tr>\n",
       "    <tr>\n",
       "      <th>3</th>\n",
       "      <td>1964</td>\n",
       "      <td>Australia</td>\n",
       "      <td>18.0</td>\n",
       "      <td>2.378766e+10</td>\n",
       "    </tr>\n",
       "    <tr>\n",
       "      <th>4</th>\n",
       "      <td>1964</td>\n",
       "      <td>Austria</td>\n",
       "      <td>0.0</td>\n",
       "      <td>9.169984e+09</td>\n",
       "    </tr>\n",
       "  </tbody>\n",
       "</table>\n",
       "</div>"
      ],
      "text/plain": [
       "   Year         Team  Medal_Won_Corrected           GDP\n",
       "0  1964  Afghanistan                  0.0  8.000000e+08\n",
       "1  1964      Algeria                  0.0  2.909352e+09\n",
       "2  1964    Argentina                  1.0  2.560525e+10\n",
       "3  1964    Australia                 18.0  2.378766e+10\n",
       "4  1964      Austria                  0.0  9.169984e+09"
      ]
     },
     "execution_count": 109,
     "metadata": {},
     "output_type": "execute_result"
    }
   ],
   "source": [
    "# get year, team and GDP - medal_tally_gdp has it\n",
    "medal_tally_gdp.head()"
   ]
  },
  {
   "cell_type": "code",
   "execution_count": 113,
   "metadata": {},
   "outputs": [
    {
     "data": {
      "text/html": [
       "<div>\n",
       "<style scoped>\n",
       "    .dataframe tbody tr th:only-of-type {\n",
       "        vertical-align: middle;\n",
       "    }\n",
       "\n",
       "    .dataframe tbody tr th {\n",
       "        vertical-align: top;\n",
       "    }\n",
       "\n",
       "    .dataframe thead th {\n",
       "        text-align: right;\n",
       "    }\n",
       "</style>\n",
       "<table border=\"1\" class=\"dataframe\">\n",
       "  <thead>\n",
       "    <tr style=\"text-align: right;\">\n",
       "      <th></th>\n",
       "      <th>Year</th>\n",
       "      <th>Team</th>\n",
       "      <th>Population</th>\n",
       "    </tr>\n",
       "  </thead>\n",
       "  <tbody>\n",
       "    <tr>\n",
       "      <th>0</th>\n",
       "      <td>1992</td>\n",
       "      <td>China</td>\n",
       "      <td>1.164970e+09</td>\n",
       "    </tr>\n",
       "    <tr>\n",
       "      <th>1</th>\n",
       "      <td>2012</td>\n",
       "      <td>China</td>\n",
       "      <td>1.350695e+09</td>\n",
       "    </tr>\n",
       "    <tr>\n",
       "      <th>2</th>\n",
       "      <td>2000</td>\n",
       "      <td>Finland</td>\n",
       "      <td>5.176209e+06</td>\n",
       "    </tr>\n",
       "    <tr>\n",
       "      <th>3</th>\n",
       "      <td>1996</td>\n",
       "      <td>Finland</td>\n",
       "      <td>5.124573e+06</td>\n",
       "    </tr>\n",
       "    <tr>\n",
       "      <th>6</th>\n",
       "      <td>2008</td>\n",
       "      <td>Norway</td>\n",
       "      <td>4.768212e+06</td>\n",
       "    </tr>\n",
       "  </tbody>\n",
       "</table>\n",
       "</div>"
      ],
      "text/plain": [
       "   Year     Team    Population\n",
       "0  1992    China  1.164970e+09\n",
       "1  2012    China  1.350695e+09\n",
       "2  2000  Finland  5.176209e+06\n",
       "3  1996  Finland  5.124573e+06\n",
       "6  2008   Norway  4.768212e+06"
      ]
     },
     "execution_count": 113,
     "metadata": {},
     "output_type": "execute_result"
    }
   ],
   "source": [
    "# Get year team population\n",
    "year_team_pop = olympics_complete_subset.loc[:, ['Year', 'Team', 'Population']].drop_duplicates()\n",
    "year_team_pop.head()"
   ]
  },
  {
   "cell_type": "code",
   "execution_count": 116,
   "metadata": {},
   "outputs": [
    {
     "data": {
      "text/html": [
       "<div>\n",
       "<style scoped>\n",
       "    .dataframe tbody tr th:only-of-type {\n",
       "        vertical-align: middle;\n",
       "    }\n",
       "\n",
       "    .dataframe tbody tr th {\n",
       "        vertical-align: top;\n",
       "    }\n",
       "\n",
       "    .dataframe thead th {\n",
       "        text-align: right;\n",
       "    }\n",
       "</style>\n",
       "<table border=\"1\" class=\"dataframe\">\n",
       "  <thead>\n",
       "    <tr style=\"text-align: right;\">\n",
       "      <th></th>\n",
       "      <th>Year</th>\n",
       "      <th>Team</th>\n",
       "      <th>Medal_Won_Corrected</th>\n",
       "      <th>GDP</th>\n",
       "      <th>Population</th>\n",
       "      <th>Total_Athletes</th>\n",
       "    </tr>\n",
       "  </thead>\n",
       "  <tbody>\n",
       "    <tr>\n",
       "      <th>0</th>\n",
       "      <td>1964</td>\n",
       "      <td>Afghanistan</td>\n",
       "      <td>0.0</td>\n",
       "      <td>8.000000e+08</td>\n",
       "      <td>9731361.0</td>\n",
       "      <td>8.0</td>\n",
       "    </tr>\n",
       "    <tr>\n",
       "      <th>1</th>\n",
       "      <td>1964</td>\n",
       "      <td>Algeria</td>\n",
       "      <td>0.0</td>\n",
       "      <td>2.909352e+09</td>\n",
       "      <td>12295970.0</td>\n",
       "      <td>1.0</td>\n",
       "    </tr>\n",
       "    <tr>\n",
       "      <th>2</th>\n",
       "      <td>1964</td>\n",
       "      <td>Argentina</td>\n",
       "      <td>1.0</td>\n",
       "      <td>2.560525e+10</td>\n",
       "      <td>21953929.0</td>\n",
       "      <td>102.0</td>\n",
       "    </tr>\n",
       "    <tr>\n",
       "      <th>3</th>\n",
       "      <td>1964</td>\n",
       "      <td>Australia</td>\n",
       "      <td>18.0</td>\n",
       "      <td>2.378766e+10</td>\n",
       "      <td>11167000.0</td>\n",
       "      <td>243.0</td>\n",
       "    </tr>\n",
       "    <tr>\n",
       "      <th>4</th>\n",
       "      <td>1964</td>\n",
       "      <td>Austria</td>\n",
       "      <td>0.0</td>\n",
       "      <td>9.169984e+09</td>\n",
       "      <td>7223801.0</td>\n",
       "      <td>56.0</td>\n",
       "    </tr>\n",
       "  </tbody>\n",
       "</table>\n",
       "</div>"
      ],
      "text/plain": [
       "   Year         Team  Medal_Won_Corrected           GDP  Population  \\\n",
       "0  1964  Afghanistan                  0.0  8.000000e+08   9731361.0   \n",
       "1  1964      Algeria                  0.0  2.909352e+09  12295970.0   \n",
       "2  1964    Argentina                  1.0  2.560525e+10  21953929.0   \n",
       "3  1964    Australia                 18.0  2.378766e+10  11167000.0   \n",
       "4  1964      Austria                  0.0  9.169984e+09   7223801.0   \n",
       "\n",
       "   Total_Athletes  \n",
       "0             8.0  \n",
       "1             1.0  \n",
       "2           102.0  \n",
       "3           243.0  \n",
       "4            56.0  "
      ]
     },
     "execution_count": 116,
     "metadata": {},
     "output_type": "execute_result"
    }
   ],
   "source": [
    "# merge all these datasets together\n",
    "medal_gdp_population = medal_tally_gdp.merge(year_team_pop,\n",
    "                                            left_on = ['Year', 'Team'],\n",
    "                                            right_on = ['Year', 'Team'],\n",
    "                                            how = 'left')\n",
    "\n",
    "medal_gdp_pop_contingent = medal_gdp_population.merge(year_team_contingent,\n",
    "                                                     left_on = ['Year', 'Team'],\n",
    "                                                     right_on = ['Year', 'Team'],\n",
    "                                                     how = 'left')\n",
    "medal_gdp_pop_contingent.head()"
   ]
  },
  {
   "cell_type": "code",
   "execution_count": 118,
   "metadata": {},
   "outputs": [
    {
     "data": {
      "text/html": [
       "<div>\n",
       "<style scoped>\n",
       "    .dataframe tbody tr th:only-of-type {\n",
       "        vertical-align: middle;\n",
       "    }\n",
       "\n",
       "    .dataframe tbody tr th {\n",
       "        vertical-align: top;\n",
       "    }\n",
       "\n",
       "    .dataframe thead th {\n",
       "        text-align: right;\n",
       "    }\n",
       "</style>\n",
       "<table border=\"1\" class=\"dataframe\">\n",
       "  <thead>\n",
       "    <tr style=\"text-align: right;\">\n",
       "      <th></th>\n",
       "      <th>Year</th>\n",
       "      <th>Team</th>\n",
       "      <th>Medal_Won_Corrected</th>\n",
       "      <th>GDP</th>\n",
       "      <th>Population</th>\n",
       "      <th>Total_Athletes</th>\n",
       "      <th>Country_Host</th>\n",
       "    </tr>\n",
       "  </thead>\n",
       "  <tbody>\n",
       "    <tr>\n",
       "      <th>0</th>\n",
       "      <td>1964</td>\n",
       "      <td>Afghanistan</td>\n",
       "      <td>0.0</td>\n",
       "      <td>8.000000e+08</td>\n",
       "      <td>9731361.0</td>\n",
       "      <td>8.0</td>\n",
       "      <td>Japan</td>\n",
       "    </tr>\n",
       "    <tr>\n",
       "      <th>1</th>\n",
       "      <td>1964</td>\n",
       "      <td>Algeria</td>\n",
       "      <td>0.0</td>\n",
       "      <td>2.909352e+09</td>\n",
       "      <td>12295970.0</td>\n",
       "      <td>1.0</td>\n",
       "      <td>Japan</td>\n",
       "    </tr>\n",
       "    <tr>\n",
       "      <th>2</th>\n",
       "      <td>1964</td>\n",
       "      <td>Argentina</td>\n",
       "      <td>1.0</td>\n",
       "      <td>2.560525e+10</td>\n",
       "      <td>21953929.0</td>\n",
       "      <td>102.0</td>\n",
       "      <td>Japan</td>\n",
       "    </tr>\n",
       "    <tr>\n",
       "      <th>3</th>\n",
       "      <td>1964</td>\n",
       "      <td>Australia</td>\n",
       "      <td>18.0</td>\n",
       "      <td>2.378766e+10</td>\n",
       "      <td>11167000.0</td>\n",
       "      <td>243.0</td>\n",
       "      <td>Japan</td>\n",
       "    </tr>\n",
       "    <tr>\n",
       "      <th>4</th>\n",
       "      <td>1964</td>\n",
       "      <td>Austria</td>\n",
       "      <td>0.0</td>\n",
       "      <td>9.169984e+09</td>\n",
       "      <td>7223801.0</td>\n",
       "      <td>56.0</td>\n",
       "      <td>Japan</td>\n",
       "    </tr>\n",
       "  </tbody>\n",
       "</table>\n",
       "</div>"
      ],
      "text/plain": [
       "   Year         Team  Medal_Won_Corrected           GDP  Population  \\\n",
       "0  1964  Afghanistan                  0.0  8.000000e+08   9731361.0   \n",
       "1  1964      Algeria                  0.0  2.909352e+09  12295970.0   \n",
       "2  1964    Argentina                  1.0  2.560525e+10  21953929.0   \n",
       "3  1964    Australia                 18.0  2.378766e+10  11167000.0   \n",
       "4  1964      Austria                  0.0  9.169984e+09   7223801.0   \n",
       "\n",
       "   Total_Athletes Country_Host  \n",
       "0             8.0        Japan  \n",
       "1             1.0        Japan  \n",
       "2           102.0        Japan  \n",
       "3           243.0        Japan  \n",
       "4            56.0        Japan  "
      ]
     },
     "execution_count": 118,
     "metadata": {},
     "output_type": "execute_result"
    }
   ],
   "source": [
    "# get host nation from the data\n",
    "year_host = olympics_complete_subset.loc[:, ['Year', 'Country_Host']].drop_duplicates()\n",
    "\n",
    "# merge this with the larger dataset\n",
    "lin_model_data = medal_gdp_pop_contingent.merge(year_host,\n",
    "                              left_on = 'Year',\n",
    "                              right_on = 'Year',\n",
    "                              how = 'left')\n",
    "\n",
    "lin_model_data.head()"
   ]
  },
  {
   "cell_type": "code",
   "execution_count": 134,
   "metadata": {},
   "outputs": [
    {
     "name": "stdout",
     "output_type": "stream",
     "text": [
      "6.84694245121\n"
     ]
    }
   ],
   "source": [
    "# Regression model\n",
    "import statsmodels.api as sm\n",
    "from patsy import dmatrices\n",
    "from sklearn import metrics\n",
    "\n",
    "# add indicator to see whether home advantage\n",
    "lin_model_data['Home_adv'] = np.where(lin_model_data['Country_Host'] == lin_model_data['Team'], 1, 0)\n",
    "\n",
    "# Add per capita GDP\n",
    "lin_model_data['GDP_per_capita'] = lin_model_data['GDP']/lin_model_data['Population']\n",
    "\n",
    "# remove NAs\n",
    "lin_model_data.dropna(how = 'any', inplace = True)\n",
    "\n",
    "# regression model\n",
    "y, X = dmatrices('Medal_Won_Corrected ~ GDP + Population + Total_Athletes + Home_adv + GDP_per_capita', \n",
    "                data = lin_model_data,\n",
    "                return_type = 'dataframe')\n",
    "\n",
    "model = sm.OLS(y, X)\n",
    "result = model.fit()\n",
    "\n",
    "#print result.summary()\n",
    "\n",
    "y_predicted = result.predict(X)\n",
    "print np.sqrt(metrics.mean_squared_error(y, y_predicted))"
   ]
  }
 ],
 "metadata": {
  "kernelspec": {
   "display_name": "Python 2",
   "language": "python",
   "name": "python2"
  },
  "language_info": {
   "codemirror_mode": {
    "name": "ipython",
    "version": 2
   },
   "file_extension": ".py",
   "mimetype": "text/x-python",
   "name": "python",
   "nbconvert_exporter": "python",
   "pygments_lexer": "ipython2",
   "version": "2.7.15"
  }
 },
 "nbformat": 4,
 "nbformat_minor": 2
}
